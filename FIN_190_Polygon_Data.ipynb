{
  "nbformat": 4,
  "nbformat_minor": 0,
  "metadata": {
    "colab": {
      "name": "FIN_190_Polygon_Data.ipynb",
      "provenance": [],
      "authorship_tag": "ABX9TyOxbL6mFwxgnfXFfZBeExh3"
    },
    "kernelspec": {
      "name": "python3",
      "display_name": "Python 3"
    },
    "accelerator": "GPU"
  },
  "cells": [
    {
      "cell_type": "code",
      "metadata": {
        "id": "SYmdlSBOSkIK",
        "colab_type": "code",
        "outputId": "4c02b41e-9959-4f55-abab-3602dcffcc56",
        "colab": {
          "base_uri": "https://localhost:8080/",
          "height": 300
        }
      },
      "source": [
        "!pip install alpaca-trade-api"
      ],
      "execution_count": 0,
      "outputs": [
        {
          "output_type": "stream",
          "text": [
            "Requirement already satisfied: alpaca-trade-api in /usr/local/lib/python3.6/dist-packages (0.46)\n",
            "Requirement already satisfied: asyncio-nats-client in /usr/local/lib/python3.6/dist-packages (from alpaca-trade-api) (0.10.0)\n",
            "Requirement already satisfied: websocket-client in /usr/local/lib/python3.6/dist-packages (from alpaca-trade-api) (0.57.0)\n",
            "Requirement already satisfied: deprecated in /usr/local/lib/python3.6/dist-packages (from alpaca-trade-api) (1.2.9)\n",
            "Requirement already satisfied: requests in /usr/local/lib/python3.6/dist-packages (from alpaca-trade-api) (2.21.0)\n",
            "Requirement already satisfied: pandas in /usr/local/lib/python3.6/dist-packages (from alpaca-trade-api) (1.0.3)\n",
            "Requirement already satisfied: alpha-vantage in /usr/local/lib/python3.6/dist-packages (from alpaca-trade-api) (2.1.3)\n",
            "Requirement already satisfied: websockets>=8.0 in /usr/local/lib/python3.6/dist-packages (from alpaca-trade-api) (8.1)\n",
            "Requirement already satisfied: urllib3<1.25 in /usr/local/lib/python3.6/dist-packages (from alpaca-trade-api) (1.24.3)\n",
            "Requirement already satisfied: six in /usr/local/lib/python3.6/dist-packages (from websocket-client->alpaca-trade-api) (1.12.0)\n",
            "Requirement already satisfied: wrapt<2,>=1.10 in /usr/local/lib/python3.6/dist-packages (from deprecated->alpaca-trade-api) (1.12.1)\n",
            "Requirement already satisfied: certifi>=2017.4.17 in /usr/local/lib/python3.6/dist-packages (from requests->alpaca-trade-api) (2020.4.5.1)\n",
            "Requirement already satisfied: chardet<3.1.0,>=3.0.2 in /usr/local/lib/python3.6/dist-packages (from requests->alpaca-trade-api) (3.0.4)\n",
            "Requirement already satisfied: idna<2.9,>=2.5 in /usr/local/lib/python3.6/dist-packages (from requests->alpaca-trade-api) (2.8)\n",
            "Requirement already satisfied: python-dateutil>=2.6.1 in /usr/local/lib/python3.6/dist-packages (from pandas->alpaca-trade-api) (2.8.1)\n",
            "Requirement already satisfied: numpy>=1.13.3 in /usr/local/lib/python3.6/dist-packages (from pandas->alpaca-trade-api) (1.18.2)\n",
            "Requirement already satisfied: pytz>=2017.2 in /usr/local/lib/python3.6/dist-packages (from pandas->alpaca-trade-api) (2018.9)\n"
          ],
          "name": "stdout"
        }
      ]
    },
    {
      "cell_type": "code",
      "metadata": {
        "id": "k_2hXQf6SuJR",
        "colab_type": "code",
        "colab": {}
      },
      "source": [
        "import os\n",
        "import argparse\n",
        "import pandas as pd\n",
        "import alpaca_trade_api as ata\n",
        "import datetime as dt\n",
        "from pytz import timezone\n",
        "import progressbar\n",
        "import time\n",
        "from urllib.error import HTTPError\n",
        "import datetime\n",
        "from datetime import date, timedelta"
      ],
      "execution_count": 0,
      "outputs": []
    },
    {
      "cell_type": "code",
      "metadata": {
        "id": "dIogseQiTStm",
        "colab_type": "code",
        "colab": {}
      },
      "source": [
        "os.environ['APCA_API_KEY_ID']='AKDSPI28GB5646091I2M'\n",
        "os.environ['APCA_API_SECRET_KEY']='hLdTTh/ZVYUnJ5l3YnFLTGGsHvXQwK958h1NG0MF'"
      ],
      "execution_count": 0,
      "outputs": []
    },
    {
      "cell_type": "code",
      "metadata": {
        "id": "dXQXFnG9TWcL",
        "colab_type": "code",
        "outputId": "a575d55d-71ba-45d5-badb-02eb7ce257f5",
        "colab": {
          "base_uri": "https://localhost:8080/",
          "height": 33
        }
      },
      "source": [
        "api = ata.REST()\n",
        "account = api.get_account()\n",
        "account.status"
      ],
      "execution_count": 0,
      "outputs": [
        {
          "output_type": "execute_result",
          "data": {
            "text/plain": [
              "'ACTIVE'"
            ]
          },
          "metadata": {
            "tags": []
          },
          "execution_count": 6
        }
      ]
    },
    {
      "cell_type": "code",
      "metadata": {
        "id": "h5d_1HOwTYoG",
        "colab_type": "code",
        "colab": {}
      },
      "source": [
        "def get_ticks(symbol, year=2020, month=4, day=8, beg_year=2019):\n",
        "    #date_format = year + '-' + month + '-' + day\n",
        "    beg = date(year, month, day)\n",
        "    end = date(beg_year, month, day)\n",
        "    day_diff = (beg - end).days\n",
        "    delta = timedelta(days=1)\n",
        "    tick_list = open('SPY_Ticks.txt', mode='w')\n",
        "    pbar = progressbar.ProgressBar(max_value=(day_diff))\n",
        "    i = 0\n",
        "    while beg > end:\n",
        "        try:\n",
        "            tick_data = api.polygon.historic_trades_v2(symbol, beg)\n",
        "            tick_list.write(str(tick_data)+'\\n')\n",
        "            beg -= delta\n",
        "            i += 1\n",
        "        except:\n",
        "            beg -= delta\n",
        "            i += 1\n",
        "            pass\n",
        "        pbar.update(i)\n",
        "        print(beg)\n",
        "\n",
        "    return tick_list"
      ],
      "execution_count": 0,
      "outputs": []
    },
    {
      "cell_type": "code",
      "metadata": {
        "id": "VZtZRQROTctp",
        "colab_type": "code",
        "outputId": "b989e28a-0fe0-4426-ca2d-eba172d072c6",
        "colab": {
          "base_uri": "https://localhost:8080/",
          "height": 1000
        }
      },
      "source": [
        "spy_ticks = get_ticks('SPY')"
      ],
      "execution_count": 0,
      "outputs": [
        {
          "output_type": "stream",
          "text": [
            "\r                                                                               \r\rN/A% (0 of 366) |                        | Elapsed Time: 0:00:00 ETA:  --:--:--"
          ],
          "name": "stderr"
        },
        {
          "output_type": "stream",
          "text": [
            "2020-04-07\n"
          ],
          "name": "stdout"
        },
        {
          "output_type": "stream",
          "text": [
            "\r                                                                               \r\r  0% (2 of 366) |                        | Elapsed Time: 0:00:04 ETA:   0:13:17"
          ],
          "name": "stderr"
        },
        {
          "output_type": "stream",
          "text": [
            "2020-04-06\n"
          ],
          "name": "stdout"
        },
        {
          "output_type": "stream",
          "text": [
            "\r                                                                               \r\r  0% (3 of 366) |                        | Elapsed Time: 0:00:08 ETA:   0:24:59"
          ],
          "name": "stderr"
        },
        {
          "output_type": "stream",
          "text": [
            "2020-04-05\n",
            "2020-04-04\n"
          ],
          "name": "stdout"
        },
        {
          "output_type": "stream",
          "text": [
            "\r                                                                               \r\r  1% (5 of 366) |                        | Elapsed Time: 0:00:08 ETA:   0:08:46"
          ],
          "name": "stderr"
        },
        {
          "output_type": "stream",
          "text": [
            "2020-04-03\n"
          ],
          "name": "stdout"
        },
        {
          "output_type": "stream",
          "text": [
            "\r                                                                               \r\r  1% (6 of 366) |                        | Elapsed Time: 0:00:13 ETA:   0:26:15"
          ],
          "name": "stderr"
        },
        {
          "output_type": "stream",
          "text": [
            "2020-04-02\n"
          ],
          "name": "stdout"
        },
        {
          "output_type": "stream",
          "text": [
            "\r                                                                               \r\r  1% (7 of 366) |                        | Elapsed Time: 0:00:17 ETA:   0:25:22"
          ],
          "name": "stderr"
        },
        {
          "output_type": "stream",
          "text": [
            "2020-04-01\n"
          ],
          "name": "stdout"
        },
        {
          "output_type": "stream",
          "text": [
            "\r                                                                               \r\r  2% (8 of 366) |                        | Elapsed Time: 0:00:21 ETA:   0:25:36"
          ],
          "name": "stderr"
        },
        {
          "output_type": "stream",
          "text": [
            "2020-03-31\n"
          ],
          "name": "stdout"
        },
        {
          "output_type": "stream",
          "text": [
            "\r                                                                               \r\r  2% (9 of 366) |                        | Elapsed Time: 0:00:26 ETA:   0:30:46"
          ],
          "name": "stderr"
        },
        {
          "output_type": "stream",
          "text": [
            "2020-03-30\n"
          ],
          "name": "stdout"
        },
        {
          "output_type": "stream",
          "text": [
            "\r                                                                               \r\r  2% (10 of 366) |                       | Elapsed Time: 0:00:31 ETA:   0:25:43"
          ],
          "name": "stderr"
        },
        {
          "output_type": "stream",
          "text": [
            "2020-03-29\n",
            "2020-03-28\n"
          ],
          "name": "stdout"
        },
        {
          "output_type": "stream",
          "text": [
            "\r                                                                               \r\r  3% (12 of 366) |                       | Elapsed Time: 0:00:31 ETA:   0:08:55"
          ],
          "name": "stderr"
        },
        {
          "output_type": "stream",
          "text": [
            "2020-03-27\n"
          ],
          "name": "stdout"
        },
        {
          "output_type": "stream",
          "text": [
            "\r                                                                               \r\r  3% (13 of 366) |                       | Elapsed Time: 0:00:35 ETA:   0:25:20"
          ],
          "name": "stderr"
        },
        {
          "output_type": "stream",
          "text": [
            "2020-03-26\n"
          ],
          "name": "stdout"
        },
        {
          "output_type": "stream",
          "text": [
            "\r                                                                               \r\r  3% (14 of 366) |                       | Elapsed Time: 0:00:40 ETA:   0:26:05"
          ],
          "name": "stderr"
        },
        {
          "output_type": "stream",
          "text": [
            "2020-03-25\n"
          ],
          "name": "stdout"
        },
        {
          "output_type": "stream",
          "text": [
            "\r                                                                               \r\r  4% (15 of 366) |                       | Elapsed Time: 0:00:44 ETA:   0:26:23"
          ],
          "name": "stderr"
        },
        {
          "output_type": "stream",
          "text": [
            "2020-03-24\n"
          ],
          "name": "stdout"
        },
        {
          "output_type": "stream",
          "text": [
            "\r                                                                               \r\r  4% (16 of 366) |#                      | Elapsed Time: 0:00:48 ETA:   0:25:00"
          ],
          "name": "stderr"
        },
        {
          "output_type": "stream",
          "text": [
            "2020-03-23\n"
          ],
          "name": "stdout"
        },
        {
          "output_type": "stream",
          "text": [
            "  4% (18 of 366) |#                      | Elapsed Time: 0:00:53 ETA:   0:13:17"
          ],
          "name": "stderr"
        },
        {
          "output_type": "stream",
          "text": [
            "2020-03-22\n",
            "2020-03-21\n"
          ],
          "name": "stdout"
        },
        {
          "output_type": "stream",
          "text": [
            "\r                                                                               \r\r  5% (19 of 366) |#                      | Elapsed Time: 0:00:53 ETA:   0:13:15"
          ],
          "name": "stderr"
        },
        {
          "output_type": "stream",
          "text": [
            "2020-03-20\n"
          ],
          "name": "stdout"
        },
        {
          "output_type": "stream",
          "text": [
            "\r                                                                               \r\r  5% (20 of 366) |#                      | Elapsed Time: 0:00:57 ETA:   0:12:34"
          ],
          "name": "stderr"
        },
        {
          "output_type": "stream",
          "text": [
            "2020-03-19\n"
          ],
          "name": "stdout"
        },
        {
          "output_type": "stream",
          "text": [
            "\r                                                                               \r\r  5% (21 of 366) |#                      | Elapsed Time: 0:01:02 ETA:   0:24:44"
          ],
          "name": "stderr"
        },
        {
          "output_type": "stream",
          "text": [
            "2020-03-18\n"
          ],
          "name": "stdout"
        },
        {
          "output_type": "stream",
          "text": [
            "\r                                                                               \r\r  6% (22 of 366) |#                      | Elapsed Time: 0:01:06 ETA:   0:26:01"
          ],
          "name": "stderr"
        },
        {
          "output_type": "stream",
          "text": [
            "2020-03-17\n"
          ],
          "name": "stdout"
        },
        {
          "output_type": "stream",
          "text": [
            "\r                                                                               \r\r  6% (23 of 366) |#                      | Elapsed Time: 0:01:10 ETA:   0:23:58"
          ],
          "name": "stderr"
        },
        {
          "output_type": "stream",
          "text": [
            "2020-03-16\n"
          ],
          "name": "stdout"
        },
        {
          "output_type": "stream",
          "text": [
            "  6% (25 of 366) |#                      | Elapsed Time: 0:01:15 ETA:   0:12:55"
          ],
          "name": "stderr"
        },
        {
          "output_type": "stream",
          "text": [
            "2020-03-15\n",
            "2020-03-14\n",
            "2020-03-13\n"
          ],
          "name": "stdout"
        },
        {
          "output_type": "stream",
          "text": [
            "\r                                                                               \r\r  7% (27 of 366) |#                      | Elapsed Time: 0:01:19 ETA:   0:12:29"
          ],
          "name": "stderr"
        },
        {
          "output_type": "stream",
          "text": [
            "2020-03-12\n"
          ],
          "name": "stdout"
        },
        {
          "output_type": "stream",
          "text": [
            "\r                                                                               \r\r  7% (28 of 366) |#                      | Elapsed Time: 0:01:24 ETA:   0:24:47"
          ],
          "name": "stderr"
        },
        {
          "output_type": "stream",
          "text": [
            "2020-03-11\n"
          ],
          "name": "stdout"
        },
        {
          "output_type": "stream",
          "text": [
            "\r                                                                               \r\r  7% (29 of 366) |#                      | Elapsed Time: 0:01:28 ETA:   0:24:24"
          ],
          "name": "stderr"
        },
        {
          "output_type": "stream",
          "text": [
            "2020-03-10\n"
          ],
          "name": "stdout"
        },
        {
          "output_type": "stream",
          "text": [
            "\r                                                                               \r\r  8% (30 of 366) |#                      | Elapsed Time: 0:01:32 ETA:   0:24:24"
          ],
          "name": "stderr"
        },
        {
          "output_type": "stream",
          "text": [
            "2020-03-09\n"
          ],
          "name": "stdout"
        },
        {
          "output_type": "stream",
          "text": [
            "  9% (33 of 366) |##                     | Elapsed Time: 0:01:37 ETA:   0:08:24"
          ],
          "name": "stderr"
        },
        {
          "output_type": "stream",
          "text": [
            "2020-03-08\n",
            "2020-03-07\n",
            "2020-03-06\n"
          ],
          "name": "stdout"
        },
        {
          "output_type": "stream",
          "text": [
            "\r                                                                               \r\r  9% (34 of 366) |##                     | Elapsed Time: 0:01:41 ETA:   0:23:12"
          ],
          "name": "stderr"
        },
        {
          "output_type": "stream",
          "text": [
            "2020-03-05\n"
          ],
          "name": "stdout"
        },
        {
          "output_type": "stream",
          "text": [
            "\r                                                                               \r\r  9% (35 of 366) |##                     | Elapsed Time: 0:01:46 ETA:   0:23:39"
          ],
          "name": "stderr"
        },
        {
          "output_type": "stream",
          "text": [
            "2020-03-04\n"
          ],
          "name": "stdout"
        },
        {
          "output_type": "stream",
          "text": [
            "\r                                                                               \r\r  9% (36 of 366) |##                     | Elapsed Time: 0:01:50 ETA:   0:23:09"
          ],
          "name": "stderr"
        },
        {
          "output_type": "stream",
          "text": [
            "2020-03-03\n"
          ],
          "name": "stdout"
        },
        {
          "output_type": "stream",
          "text": [
            "\r                                                                               \r\r 10% (37 of 366) |##                     | Elapsed Time: 0:01:54 ETA:   0:23:44"
          ],
          "name": "stderr"
        },
        {
          "output_type": "stream",
          "text": [
            "2020-03-02\n"
          ],
          "name": "stdout"
        },
        {
          "output_type": "stream",
          "text": [
            "\r                                                                               \r\r 10% (38 of 366) |##                     | Elapsed Time: 0:01:59 ETA:   0:24:27"
          ],
          "name": "stderr"
        },
        {
          "output_type": "stream",
          "text": [
            "2020-03-01\n",
            "2020-02-29\n"
          ],
          "name": "stdout"
        },
        {
          "output_type": "stream",
          "text": [
            "\r                                                                               \r\r 10% (40 of 366) |##                     | Elapsed Time: 0:01:59 ETA:   0:08:32"
          ],
          "name": "stderr"
        },
        {
          "output_type": "stream",
          "text": [
            "2020-02-28\n"
          ],
          "name": "stdout"
        },
        {
          "output_type": "stream",
          "text": [
            "\r                                                                               \r\r 11% (41 of 366) |##                     | Elapsed Time: 0:02:03 ETA:   0:23:15"
          ],
          "name": "stderr"
        },
        {
          "output_type": "stream",
          "text": [
            "2020-02-27\n"
          ],
          "name": "stdout"
        },
        {
          "output_type": "stream",
          "text": [
            "\r                                                                               \r\r 11% (42 of 366) |##                     | Elapsed Time: 0:02:07 ETA:   0:22:51"
          ],
          "name": "stderr"
        },
        {
          "output_type": "stream",
          "text": [
            "2020-02-26\n"
          ],
          "name": "stdout"
        },
        {
          "output_type": "stream",
          "text": [
            "\r                                                                               \r\r 11% (43 of 366) |##                     | Elapsed Time: 0:02:12 ETA:   0:23:26"
          ],
          "name": "stderr"
        },
        {
          "output_type": "stream",
          "text": [
            "2020-02-25\n"
          ],
          "name": "stdout"
        },
        {
          "output_type": "stream",
          "text": [
            "\r                                                                               \r\r 12% (44 of 366) |##                     | Elapsed Time: 0:02:16 ETA:   0:22:15"
          ],
          "name": "stderr"
        },
        {
          "output_type": "stream",
          "text": [
            "2020-02-24\n"
          ],
          "name": "stdout"
        },
        {
          "output_type": "stream",
          "text": [
            " 12% (46 of 366) |##                     | Elapsed Time: 0:02:20 ETA:   0:12:11"
          ],
          "name": "stderr"
        },
        {
          "output_type": "stream",
          "text": [
            "2020-02-23\n",
            "2020-02-22\n"
          ],
          "name": "stdout"
        },
        {
          "output_type": "stream",
          "text": [
            "\r                                                                               \r\r 12% (47 of 366) |##                     | Elapsed Time: 0:02:20 ETA:   0:12:09"
          ],
          "name": "stderr"
        },
        {
          "output_type": "stream",
          "text": [
            "2020-02-21\n"
          ],
          "name": "stdout"
        },
        {
          "output_type": "stream",
          "text": [
            "\r                                                                               \r\r 13% (48 of 366) |###                    | Elapsed Time: 0:02:25 ETA:   0:11:08"
          ],
          "name": "stderr"
        },
        {
          "output_type": "stream",
          "text": [
            "2020-02-20\n"
          ],
          "name": "stdout"
        },
        {
          "output_type": "stream",
          "text": [
            "\r                                                                               \r\r 13% (49 of 366) |###                    | Elapsed Time: 0:02:29 ETA:   0:23:39"
          ],
          "name": "stderr"
        },
        {
          "output_type": "stream",
          "text": [
            "2020-02-19\n"
          ],
          "name": "stdout"
        },
        {
          "output_type": "stream",
          "text": [
            "\r                                                                               \r\r 13% (50 of 366) |###                    | Elapsed Time: 0:02:33 ETA:   0:21:50"
          ],
          "name": "stderr"
        },
        {
          "output_type": "stream",
          "text": [
            "2020-02-18\n"
          ],
          "name": "stdout"
        },
        {
          "output_type": "stream",
          "text": [
            " 14% (52 of 366) |###                    | Elapsed Time: 0:02:38 ETA:   0:11:29"
          ],
          "name": "stderr"
        },
        {
          "output_type": "stream",
          "text": [
            "2020-02-17\n",
            "2020-02-16\n"
          ],
          "name": "stdout"
        },
        {
          "output_type": "stream",
          "text": [
            "\r                                                                               \r\r 14% (54 of 366) |###                    | Elapsed Time: 0:02:38 ETA:   0:05:58"
          ],
          "name": "stderr"
        },
        {
          "output_type": "stream",
          "text": [
            "2020-02-15\n",
            "2020-02-14\n"
          ],
          "name": "stdout"
        },
        {
          "output_type": "stream",
          "text": [
            "\r                                                                               \r\r 15% (55 of 366) |###                    | Elapsed Time: 0:02:42 ETA:   0:22:33"
          ],
          "name": "stderr"
        },
        {
          "output_type": "stream",
          "text": [
            "2020-02-13\n"
          ],
          "name": "stdout"
        },
        {
          "output_type": "stream",
          "text": [
            "\r                                                                               \r\r 15% (56 of 366) |###                    | Elapsed Time: 0:02:47 ETA:   0:22:50"
          ],
          "name": "stderr"
        },
        {
          "output_type": "stream",
          "text": [
            "2020-02-12\n"
          ],
          "name": "stdout"
        },
        {
          "output_type": "stream",
          "text": [
            "\r                                                                               \r\r 15% (57 of 366) |###                    | Elapsed Time: 0:02:51 ETA:   0:21:41"
          ],
          "name": "stderr"
        },
        {
          "output_type": "stream",
          "text": [
            "2020-02-11\n"
          ],
          "name": "stdout"
        },
        {
          "output_type": "stream",
          "text": [
            "\r                                                                               \r\r 15% (58 of 366) |###                    | Elapsed Time: 0:02:55 ETA:   0:20:42"
          ],
          "name": "stderr"
        },
        {
          "output_type": "stream",
          "text": [
            "2020-02-10\n"
          ],
          "name": "stdout"
        },
        {
          "output_type": "stream",
          "text": [
            " 16% (60 of 366) |###                    | Elapsed Time: 0:02:59 ETA:   0:10:59"
          ],
          "name": "stderr"
        },
        {
          "output_type": "stream",
          "text": [
            "2020-02-09\n",
            "2020-02-08\n"
          ],
          "name": "stdout"
        },
        {
          "output_type": "stream",
          "text": [
            "\r                                                                               \r\r 16% (61 of 366) |###                    | Elapsed Time: 0:02:59 ETA:   0:07:33"
          ],
          "name": "stderr"
        },
        {
          "output_type": "stream",
          "text": [
            "2020-02-07\n"
          ],
          "name": "stdout"
        },
        {
          "output_type": "stream",
          "text": [
            "\r                                                                               \r\r 16% (62 of 366) |###                    | Elapsed Time: 0:03:03 ETA:   0:20:48"
          ],
          "name": "stderr"
        },
        {
          "output_type": "stream",
          "text": [
            "2020-02-06\n"
          ],
          "name": "stdout"
        },
        {
          "output_type": "stream",
          "text": [
            "\r                                                                               \r\r 17% (63 of 366) |###                    | Elapsed Time: 0:03:08 ETA:   0:20:48"
          ],
          "name": "stderr"
        },
        {
          "output_type": "stream",
          "text": [
            "2020-02-05\n"
          ],
          "name": "stdout"
        },
        {
          "output_type": "stream",
          "text": [
            "\r                                                                               \r\r 17% (64 of 366) |####                   | Elapsed Time: 0:03:12 ETA:   0:21:08"
          ],
          "name": "stderr"
        },
        {
          "output_type": "stream",
          "text": [
            "2020-02-04\n"
          ],
          "name": "stdout"
        },
        {
          "output_type": "stream",
          "text": [
            "\r                                                                               \r\r 17% (65 of 366) |####                   | Elapsed Time: 0:03:16 ETA:   0:21:06"
          ],
          "name": "stderr"
        },
        {
          "output_type": "stream",
          "text": [
            "2020-02-03\n"
          ],
          "name": "stdout"
        },
        {
          "output_type": "stream",
          "text": [
            " 18% (67 of 366) |####                   | Elapsed Time: 0:03:20 ETA:   0:11:04"
          ],
          "name": "stderr"
        },
        {
          "output_type": "stream",
          "text": [
            "2020-02-02\n",
            "2020-02-01\n"
          ],
          "name": "stdout"
        },
        {
          "output_type": "stream",
          "text": [
            "\r                                                                               \r\r 18% (68 of 366) |####                   | Elapsed Time: 0:03:20 ETA:   0:07:35"
          ],
          "name": "stderr"
        },
        {
          "output_type": "stream",
          "text": [
            "2020-01-31\n"
          ],
          "name": "stdout"
        },
        {
          "output_type": "stream",
          "text": [
            "\r                                                                               \r\r 18% (69 of 366) |####                   | Elapsed Time: 0:03:25 ETA:   0:21:17"
          ],
          "name": "stderr"
        },
        {
          "output_type": "stream",
          "text": [
            "2020-01-30\n"
          ],
          "name": "stdout"
        },
        {
          "output_type": "stream",
          "text": [
            "\r                                                                               \r\r 19% (70 of 366) |####                   | Elapsed Time: 0:03:29 ETA:   0:20:08"
          ],
          "name": "stderr"
        },
        {
          "output_type": "stream",
          "text": [
            "2020-01-29\n"
          ],
          "name": "stdout"
        },
        {
          "output_type": "stream",
          "text": [
            "\r                                                                               \r\r 19% (71 of 366) |####                   | Elapsed Time: 0:03:33 ETA:   0:20:25"
          ],
          "name": "stderr"
        },
        {
          "output_type": "stream",
          "text": [
            "2020-01-28\n"
          ],
          "name": "stdout"
        },
        {
          "output_type": "stream",
          "text": [
            "\r                                                                               \r\r 19% (72 of 366) |####                   | Elapsed Time: 0:03:37 ETA:   0:20:22"
          ],
          "name": "stderr"
        },
        {
          "output_type": "stream",
          "text": [
            "2020-01-27\n"
          ],
          "name": "stdout"
        },
        {
          "output_type": "stream",
          "text": [
            " 20% (74 of 366) |####                   | Elapsed Time: 0:03:41 ETA:   0:10:15"
          ],
          "name": "stderr"
        },
        {
          "output_type": "stream",
          "text": [
            "2020-01-26\n",
            "2020-01-25\n"
          ],
          "name": "stdout"
        },
        {
          "output_type": "stream",
          "text": [
            "\r                                                                               \r\r 20% (75 of 366) |####                   | Elapsed Time: 0:03:41 ETA:   0:10:13"
          ],
          "name": "stderr"
        },
        {
          "output_type": "stream",
          "text": [
            "2020-01-24\n"
          ],
          "name": "stdout"
        },
        {
          "output_type": "stream",
          "text": [
            "\r                                                                               \r\r 20% (76 of 366) |####                   | Elapsed Time: 0:03:46 ETA:   0:10:32"
          ],
          "name": "stderr"
        },
        {
          "output_type": "stream",
          "text": [
            "2020-01-23\n"
          ],
          "name": "stdout"
        },
        {
          "output_type": "stream",
          "text": [
            "\r                                                                               \r\r 21% (77 of 366) |####                   | Elapsed Time: 0:03:50 ETA:   0:21:25"
          ],
          "name": "stderr"
        },
        {
          "output_type": "stream",
          "text": [
            "2020-01-22\n"
          ],
          "name": "stdout"
        },
        {
          "output_type": "stream",
          "text": [
            "\r                                                                               \r\r 21% (78 of 366) |####                   | Elapsed Time: 0:03:54 ETA:   0:19:45"
          ],
          "name": "stderr"
        },
        {
          "output_type": "stream",
          "text": [
            "2020-01-21\n"
          ],
          "name": "stdout"
        },
        {
          "output_type": "stream",
          "text": [
            " 21% (80 of 366) |#####                  | Elapsed Time: 0:03:59 ETA:   0:10:05"
          ],
          "name": "stderr"
        },
        {
          "output_type": "stream",
          "text": [
            "2020-01-20\n",
            "2020-01-19\n"
          ],
          "name": "stdout"
        },
        {
          "output_type": "stream",
          "text": [
            "\r                                                                               \r\r 22% (81 of 366) |#####                  | Elapsed Time: 0:03:59 ETA:   0:06:54"
          ],
          "name": "stderr"
        },
        {
          "output_type": "stream",
          "text": [
            "2020-01-18\n",
            "2020-01-17\n"
          ],
          "name": "stdout"
        },
        {
          "output_type": "stream",
          "text": [
            "\r                                                                               \r\r 22% (83 of 366) |#####                  | Elapsed Time: 0:04:03 ETA:   0:10:03"
          ],
          "name": "stderr"
        },
        {
          "output_type": "stream",
          "text": [
            "2020-01-16\n"
          ],
          "name": "stdout"
        },
        {
          "output_type": "stream",
          "text": [
            "\r                                                                               \r\r 22% (84 of 366) |#####                  | Elapsed Time: 0:04:07 ETA:   0:19:15"
          ],
          "name": "stderr"
        },
        {
          "output_type": "stream",
          "text": [
            "2020-01-15\n"
          ],
          "name": "stdout"
        },
        {
          "output_type": "stream",
          "text": [
            "\r                                                                               \r\r 23% (85 of 366) |#####                  | Elapsed Time: 0:04:11 ETA:   0:19:26"
          ],
          "name": "stderr"
        },
        {
          "output_type": "stream",
          "text": [
            "2020-01-14\n"
          ],
          "name": "stdout"
        },
        {
          "output_type": "stream",
          "text": [
            "\r                                                                               \r\r 23% (86 of 366) |#####                  | Elapsed Time: 0:04:15 ETA:   0:19:30"
          ],
          "name": "stderr"
        },
        {
          "output_type": "stream",
          "text": [
            "2020-01-13\n"
          ],
          "name": "stdout"
        },
        {
          "output_type": "stream",
          "text": [
            " 24% (88 of 366) |#####                  | Elapsed Time: 0:04:20 ETA:   0:10:12"
          ],
          "name": "stderr"
        },
        {
          "output_type": "stream",
          "text": [
            "2020-01-12\n",
            "2020-01-11\n"
          ],
          "name": "stdout"
        },
        {
          "output_type": "stream",
          "text": [
            "\r                                                                               \r\r 24% (89 of 366) |#####                  | Elapsed Time: 0:04:20 ETA:   0:07:04"
          ],
          "name": "stderr"
        },
        {
          "output_type": "stream",
          "text": [
            "2020-01-10\n"
          ],
          "name": "stdout"
        },
        {
          "output_type": "stream",
          "text": [
            "\r                                                                               \r\r 24% (90 of 366) |#####                  | Elapsed Time: 0:04:24 ETA:   0:19:22"
          ],
          "name": "stderr"
        },
        {
          "output_type": "stream",
          "text": [
            "2020-01-09\n"
          ],
          "name": "stdout"
        },
        {
          "output_type": "stream",
          "text": [
            "\r                                                                               \r\r 24% (91 of 366) |#####                  | Elapsed Time: 0:04:28 ETA:   0:19:09"
          ],
          "name": "stderr"
        },
        {
          "output_type": "stream",
          "text": [
            "2020-01-08\n"
          ],
          "name": "stdout"
        },
        {
          "output_type": "stream",
          "text": [
            "\r                                                                               \r\r 25% (92 of 366) |#####                  | Elapsed Time: 0:04:32 ETA:   0:18:30"
          ],
          "name": "stderr"
        },
        {
          "output_type": "stream",
          "text": [
            "2020-01-07\n"
          ],
          "name": "stdout"
        },
        {
          "output_type": "stream",
          "text": [
            "\r                                                                               \r\r 25% (93 of 366) |#####                  | Elapsed Time: 0:04:37 ETA:   0:19:21"
          ],
          "name": "stderr"
        },
        {
          "output_type": "stream",
          "text": [
            "2020-01-06\n"
          ],
          "name": "stdout"
        },
        {
          "output_type": "stream",
          "text": [
            " 26% (96 of 366) |######                 | Elapsed Time: 0:04:41 ETA:   0:06:35"
          ],
          "name": "stderr"
        },
        {
          "output_type": "stream",
          "text": [
            "2020-01-05\n",
            "2020-01-04\n",
            "2020-01-03\n"
          ],
          "name": "stdout"
        },
        {
          "output_type": "stream",
          "text": [
            "\r                                                                               \r\r 26% (97 of 366) |######                 | Elapsed Time: 0:04:46 ETA:   0:19:59"
          ],
          "name": "stderr"
        },
        {
          "output_type": "stream",
          "text": [
            "2020-01-02\n"
          ],
          "name": "stdout"
        },
        {
          "output_type": "stream",
          "text": [
            " 27% (99 of 366) |######                 | Elapsed Time: 0:04:50 ETA:   0:09:41"
          ],
          "name": "stderr"
        },
        {
          "output_type": "stream",
          "text": [
            "2020-01-01\n",
            "2019-12-31\n"
          ],
          "name": "stdout"
        },
        {
          "output_type": "stream",
          "text": [
            "\r                                                                               \r\r 27% (100 of 366) |######                | Elapsed Time: 0:04:55 ETA:   0:20:51"
          ],
          "name": "stderr"
        },
        {
          "output_type": "stream",
          "text": [
            "2019-12-30\n"
          ],
          "name": "stdout"
        },
        {
          "output_type": "stream",
          "text": [
            " 27% (102 of 366) |######                | Elapsed Time: 0:04:59 ETA:   0:18:57"
          ],
          "name": "stderr"
        },
        {
          "output_type": "stream",
          "text": [
            "2019-12-29\n",
            "2019-12-28\n",
            "2019-12-27\n"
          ],
          "name": "stdout"
        },
        {
          "output_type": "stream",
          "text": [
            "\r                                                                               \r\r 28% (104 of 366) |######                | Elapsed Time: 0:05:03 ETA:   0:06:02"
          ],
          "name": "stderr"
        },
        {
          "output_type": "stream",
          "text": [
            "2019-12-26\n"
          ],
          "name": "stdout"
        },
        {
          "output_type": "stream",
          "text": [
            "\r                                                                               \r\r 28% (105 of 366) |######                | Elapsed Time: 0:05:07 ETA:   0:17:47"
          ],
          "name": "stderr"
        },
        {
          "output_type": "stream",
          "text": [
            "2019-12-25\n",
            "2019-12-24\n"
          ],
          "name": "stdout"
        },
        {
          "output_type": "stream",
          "text": [
            "\r                                                                               \r\r 29% (107 of 366) |######                | Elapsed Time: 0:05:11 ETA:   0:09:01"
          ],
          "name": "stderr"
        },
        {
          "output_type": "stream",
          "text": [
            "2019-12-23\n"
          ],
          "name": "stdout"
        },
        {
          "output_type": "stream",
          "text": [
            " 30% (110 of 366) |######                | Elapsed Time: 0:05:16 ETA:   0:06:10"
          ],
          "name": "stderr"
        },
        {
          "output_type": "stream",
          "text": [
            "2019-12-22\n",
            "2019-12-21\n",
            "2019-12-20\n"
          ],
          "name": "stdout"
        },
        {
          "output_type": "stream",
          "text": [
            "\r                                                                               \r\r 30% (111 of 366) |######                | Elapsed Time: 0:05:20 ETA:   0:17:39"
          ],
          "name": "stderr"
        },
        {
          "output_type": "stream",
          "text": [
            "2019-12-19\n"
          ],
          "name": "stdout"
        },
        {
          "output_type": "stream",
          "text": [
            "\r                                                                               \r\r 30% (112 of 366) |######                | Elapsed Time: 0:05:24 ETA:   0:19:35"
          ],
          "name": "stderr"
        },
        {
          "output_type": "stream",
          "text": [
            "2019-12-18\n"
          ],
          "name": "stdout"
        },
        {
          "output_type": "stream",
          "text": [
            "\r                                                                               \r\r 30% (113 of 366) |######                | Elapsed Time: 0:05:28 ETA:   0:16:59"
          ],
          "name": "stderr"
        },
        {
          "output_type": "stream",
          "text": [
            "2019-12-17\n"
          ],
          "name": "stdout"
        },
        {
          "output_type": "stream",
          "text": [
            "\r                                                                               \r\r 31% (114 of 366) |######                | Elapsed Time: 0:05:33 ETA:   0:17:18"
          ],
          "name": "stderr"
        },
        {
          "output_type": "stream",
          "text": [
            "2019-12-16\n"
          ],
          "name": "stdout"
        },
        {
          "output_type": "stream",
          "text": [
            " 31% (116 of 366) |######                | Elapsed Time: 0:05:37 ETA:   0:17:54"
          ],
          "name": "stderr"
        },
        {
          "output_type": "stream",
          "text": [
            "2019-12-15\n",
            "2019-12-14\n",
            "2019-12-13\n"
          ],
          "name": "stdout"
        },
        {
          "output_type": "stream",
          "text": [
            "\r                                                                               \r\r 32% (118 of 366) |#######               | Elapsed Time: 0:05:41 ETA:   0:05:57"
          ],
          "name": "stderr"
        },
        {
          "output_type": "stream",
          "text": [
            "2019-12-12\n"
          ],
          "name": "stdout"
        },
        {
          "output_type": "stream",
          "text": [
            "\r                                                                               \r\r 32% (119 of 366) |#######               | Elapsed Time: 0:05:45 ETA:   0:17:14"
          ],
          "name": "stderr"
        },
        {
          "output_type": "stream",
          "text": [
            "2019-12-11\n"
          ],
          "name": "stdout"
        },
        {
          "output_type": "stream",
          "text": [
            "\r                                                                               \r\r 32% (120 of 366) |#######               | Elapsed Time: 0:05:50 ETA:   0:18:10"
          ],
          "name": "stderr"
        },
        {
          "output_type": "stream",
          "text": [
            "2019-12-10\n"
          ],
          "name": "stdout"
        },
        {
          "output_type": "stream",
          "text": [
            "\r                                                                               \r\r 33% (121 of 366) |#######               | Elapsed Time: 0:05:54 ETA:   0:17:11"
          ],
          "name": "stderr"
        },
        {
          "output_type": "stream",
          "text": [
            "2019-12-09\n"
          ],
          "name": "stdout"
        },
        {
          "output_type": "stream",
          "text": [
            " 33% (124 of 366) |#######               | Elapsed Time: 0:05:58 ETA:   0:05:49"
          ],
          "name": "stderr"
        },
        {
          "output_type": "stream",
          "text": [
            "2019-12-08\n",
            "2019-12-07\n",
            "2019-12-06\n"
          ],
          "name": "stdout"
        },
        {
          "output_type": "stream",
          "text": [
            "\r                                                                               \r\r 34% (125 of 366) |#######               | Elapsed Time: 0:06:03 ETA:   0:17:51"
          ],
          "name": "stderr"
        },
        {
          "output_type": "stream",
          "text": [
            "2019-12-05\n"
          ],
          "name": "stdout"
        },
        {
          "output_type": "stream",
          "text": [
            "\r                                                                               \r\r 34% (126 of 366) |#######               | Elapsed Time: 0:06:07 ETA:   0:16:58"
          ],
          "name": "stderr"
        },
        {
          "output_type": "stream",
          "text": [
            "2019-12-04\n"
          ],
          "name": "stdout"
        },
        {
          "output_type": "stream",
          "text": [
            "\r                                                                               \r\r 34% (127 of 366) |#######               | Elapsed Time: 0:06:11 ETA:   0:16:19"
          ],
          "name": "stderr"
        },
        {
          "output_type": "stream",
          "text": [
            "2019-12-03\n"
          ],
          "name": "stdout"
        },
        {
          "output_type": "stream",
          "text": [
            "\r                                                                               \r\r 34% (128 of 366) |#######               | Elapsed Time: 0:06:15 ETA:   0:16:22"
          ],
          "name": "stderr"
        },
        {
          "output_type": "stream",
          "text": [
            "2019-12-02\n"
          ],
          "name": "stdout"
        },
        {
          "output_type": "stream",
          "text": [
            " 35% (130 of 366) |#######               | Elapsed Time: 0:06:20 ETA:   0:16:30"
          ],
          "name": "stderr"
        },
        {
          "output_type": "stream",
          "text": [
            "2019-12-01\n",
            "2019-11-30\n",
            "2019-11-29\n"
          ],
          "name": "stdout"
        },
        {
          "output_type": "stream",
          "text": [
            " 36% (133 of 366) |#######               | Elapsed Time: 0:06:24 ETA:   0:04:21"
          ],
          "name": "stderr"
        },
        {
          "output_type": "stream",
          "text": [
            "2019-11-28\n",
            "2019-11-27\n"
          ],
          "name": "stdout"
        },
        {
          "output_type": "stream",
          "text": [
            "\r                                                                               \r\r 36% (134 of 366) |########              | Elapsed Time: 0:06:28 ETA:   0:15:46"
          ],
          "name": "stderr"
        },
        {
          "output_type": "stream",
          "text": [
            "2019-11-26\n"
          ],
          "name": "stdout"
        },
        {
          "output_type": "stream",
          "text": [
            "\r                                                                               \r\r 36% (135 of 366) |########              | Elapsed Time: 0:06:32 ETA:   0:15:44"
          ],
          "name": "stderr"
        },
        {
          "output_type": "stream",
          "text": [
            "2019-11-25\n"
          ],
          "name": "stdout"
        },
        {
          "output_type": "stream",
          "text": [
            " 37% (138 of 366) |########              | Elapsed Time: 0:06:36 ETA:   0:05:23"
          ],
          "name": "stderr"
        },
        {
          "output_type": "stream",
          "text": [
            "2019-11-24\n",
            "2019-11-23\n",
            "2019-11-22\n"
          ],
          "name": "stdout"
        },
        {
          "output_type": "stream",
          "text": [
            "\r                                                                               \r\r 37% (139 of 366) |########              | Elapsed Time: 0:06:41 ETA:   0:15:35"
          ],
          "name": "stderr"
        },
        {
          "output_type": "stream",
          "text": [
            "2019-11-21\n"
          ],
          "name": "stdout"
        },
        {
          "output_type": "stream",
          "text": [
            "\r                                                                               \r\r 38% (140 of 366) |########              | Elapsed Time: 0:06:45 ETA:   0:15:37"
          ],
          "name": "stderr"
        },
        {
          "output_type": "stream",
          "text": [
            "2019-11-20\n"
          ],
          "name": "stdout"
        },
        {
          "output_type": "stream",
          "text": [
            "\r                                                                               \r\r 38% (141 of 366) |########              | Elapsed Time: 0:06:49 ETA:   0:14:50"
          ],
          "name": "stderr"
        },
        {
          "output_type": "stream",
          "text": [
            "2019-11-19\n"
          ],
          "name": "stdout"
        },
        {
          "output_type": "stream",
          "text": [
            "\r                                                                               \r\r 38% (142 of 366) |########              | Elapsed Time: 0:06:53 ETA:   0:15:25"
          ],
          "name": "stderr"
        },
        {
          "output_type": "stream",
          "text": [
            "2019-11-18\n"
          ],
          "name": "stdout"
        },
        {
          "output_type": "stream",
          "text": [
            " 39% (144 of 366) |########              | Elapsed Time: 0:06:57 ETA:   0:15:39"
          ],
          "name": "stderr"
        },
        {
          "output_type": "stream",
          "text": [
            "2019-11-17\n",
            "2019-11-16\n",
            "2019-11-15\n"
          ],
          "name": "stdout"
        },
        {
          "output_type": "stream",
          "text": [
            "\r                                                                               \r\r 39% (146 of 366) |########              | Elapsed Time: 0:07:01 ETA:   0:05:05"
          ],
          "name": "stderr"
        },
        {
          "output_type": "stream",
          "text": [
            "2019-11-14\n"
          ],
          "name": "stdout"
        },
        {
          "output_type": "stream",
          "text": [
            "\r                                                                               \r\r 40% (147 of 366) |########              | Elapsed Time: 0:07:05 ETA:   0:15:07"
          ],
          "name": "stderr"
        },
        {
          "output_type": "stream",
          "text": [
            "2019-11-13\n"
          ],
          "name": "stdout"
        },
        {
          "output_type": "stream",
          "text": [
            "\r                                                                               \r\r 40% (148 of 366) |########              | Elapsed Time: 0:07:09 ETA:   0:14:43"
          ],
          "name": "stderr"
        },
        {
          "output_type": "stream",
          "text": [
            "2019-11-12\n"
          ],
          "name": "stdout"
        },
        {
          "output_type": "stream",
          "text": [
            "\r                                                                               \r\r 40% (149 of 366) |########              | Elapsed Time: 0:07:13 ETA:   0:14:47"
          ],
          "name": "stderr"
        },
        {
          "output_type": "stream",
          "text": [
            "2019-11-11\n"
          ],
          "name": "stdout"
        },
        {
          "output_type": "stream",
          "text": [
            "\r                                                                               \r\r 40% (150 of 366) |#########             | Elapsed Time: 0:07:18 ETA:   0:15:46"
          ],
          "name": "stderr"
        },
        {
          "output_type": "stream",
          "text": [
            "2019-11-10\n",
            "2019-11-09\n"
          ],
          "name": "stdout"
        },
        {
          "output_type": "stream",
          "text": [
            "\r                                                                               \r\r 41% (152 of 366) |#########             | Elapsed Time: 0:07:18 ETA:   0:05:27"
          ],
          "name": "stderr"
        },
        {
          "output_type": "stream",
          "text": [
            "2019-11-08\n"
          ],
          "name": "stdout"
        },
        {
          "output_type": "stream",
          "text": [
            "\r                                                                               \r\r 41% (153 of 366) |#########             | Elapsed Time: 0:07:22 ETA:   0:14:55"
          ],
          "name": "stderr"
        },
        {
          "output_type": "stream",
          "text": [
            "2019-11-07\n"
          ],
          "name": "stdout"
        },
        {
          "output_type": "stream",
          "text": [
            "\r                                                                               \r\r 42% (154 of 366) |#########             | Elapsed Time: 0:07:26 ETA:   0:14:56"
          ],
          "name": "stderr"
        },
        {
          "output_type": "stream",
          "text": [
            "2019-11-06\n"
          ],
          "name": "stdout"
        },
        {
          "output_type": "stream",
          "text": [
            "\r                                                                               \r\r 42% (155 of 366) |#########             | Elapsed Time: 0:07:31 ETA:   0:14:37"
          ],
          "name": "stderr"
        },
        {
          "output_type": "stream",
          "text": [
            "2019-11-05\n"
          ],
          "name": "stdout"
        },
        {
          "output_type": "stream",
          "text": [
            "\r                                                                               \r\r 42% (156 of 366) |#########             | Elapsed Time: 0:07:35 ETA:   0:15:08"
          ],
          "name": "stderr"
        },
        {
          "output_type": "stream",
          "text": [
            "2019-11-04\n"
          ],
          "name": "stdout"
        },
        {
          "output_type": "stream",
          "text": [
            " 43% (158 of 366) |#########             | Elapsed Time: 0:07:39 ETA:   0:14:28"
          ],
          "name": "stderr"
        },
        {
          "output_type": "stream",
          "text": [
            "2019-11-03\n",
            "2019-11-02\n",
            "2019-11-01\n"
          ],
          "name": "stdout"
        },
        {
          "output_type": "stream",
          "text": [
            "\r                                                                               \r\r 43% (160 of 366) |#########             | Elapsed Time: 0:07:43 ETA:   0:04:53"
          ],
          "name": "stderr"
        },
        {
          "output_type": "stream",
          "text": [
            "2019-10-31\n"
          ],
          "name": "stdout"
        },
        {
          "output_type": "stream",
          "text": [
            "\r                                                                               \r\r 43% (161 of 366) |#########             | Elapsed Time: 0:07:48 ETA:   0:15:54"
          ],
          "name": "stderr"
        },
        {
          "output_type": "stream",
          "text": [
            "2019-10-30\n"
          ],
          "name": "stdout"
        },
        {
          "output_type": "stream",
          "text": [
            "\r                                                                               \r\r 44% (162 of 366) |#########             | Elapsed Time: 0:07:53 ETA:   0:15:53"
          ],
          "name": "stderr"
        },
        {
          "output_type": "stream",
          "text": [
            "2019-10-29\n"
          ],
          "name": "stdout"
        },
        {
          "output_type": "stream",
          "text": [
            "\r                                                                               \r\r 44% (163 of 366) |#########             | Elapsed Time: 0:07:57 ETA:   0:13:48"
          ],
          "name": "stderr"
        },
        {
          "output_type": "stream",
          "text": [
            "2019-10-28\n"
          ],
          "name": "stdout"
        },
        {
          "output_type": "stream",
          "text": [
            "\r                                                                               \r\r 44% (164 of 366) |#########             | Elapsed Time: 0:08:01 ETA:   0:14:28"
          ],
          "name": "stderr"
        },
        {
          "output_type": "stream",
          "text": [
            "2019-10-27\n",
            "2019-10-26\n"
          ],
          "name": "stdout"
        },
        {
          "output_type": "stream",
          "text": [
            "\r                                                                               \r\r 45% (166 of 366) |#########             | Elapsed Time: 0:08:01 ETA:   0:05:00"
          ],
          "name": "stderr"
        },
        {
          "output_type": "stream",
          "text": [
            "2019-10-25\n"
          ],
          "name": "stdout"
        },
        {
          "output_type": "stream",
          "text": [
            "\r                                                                               \r\r 45% (167 of 366) |##########            | Elapsed Time: 0:08:05 ETA:   0:13:39"
          ],
          "name": "stderr"
        },
        {
          "output_type": "stream",
          "text": [
            "2019-10-24\n"
          ],
          "name": "stdout"
        },
        {
          "output_type": "stream",
          "text": [
            "\r                                                                               \r\r 45% (168 of 366) |##########            | Elapsed Time: 0:08:10 ETA:   0:13:24"
          ],
          "name": "stderr"
        },
        {
          "output_type": "stream",
          "text": [
            "2019-10-23\n"
          ],
          "name": "stdout"
        },
        {
          "output_type": "stream",
          "text": [
            "\r                                                                               \r\r 46% (169 of 366) |##########            | Elapsed Time: 0:08:14 ETA:   0:14:11"
          ],
          "name": "stderr"
        },
        {
          "output_type": "stream",
          "text": [
            "2019-10-22\n"
          ],
          "name": "stdout"
        },
        {
          "output_type": "stream",
          "text": [
            "\r                                                                               \r\r 46% (170 of 366) |##########            | Elapsed Time: 0:08:18 ETA:   0:13:29"
          ],
          "name": "stderr"
        },
        {
          "output_type": "stream",
          "text": [
            "2019-10-21\n"
          ],
          "name": "stdout"
        },
        {
          "output_type": "stream",
          "text": [
            " 46% (172 of 366) |##########            | Elapsed Time: 0:08:22 ETA:   0:13:05"
          ],
          "name": "stderr"
        },
        {
          "output_type": "stream",
          "text": [
            "2019-10-20\n",
            "2019-10-19\n"
          ],
          "name": "stdout"
        },
        {
          "output_type": "stream",
          "text": [
            "\r                                                                               \r\r 47% (173 of 366) |##########            | Elapsed Time: 0:08:22 ETA:   0:04:34"
          ],
          "name": "stderr"
        },
        {
          "output_type": "stream",
          "text": [
            "2019-10-18\n"
          ],
          "name": "stdout"
        },
        {
          "output_type": "stream",
          "text": [
            "\r                                                                               \r\r 47% (174 of 366) |##########            | Elapsed Time: 0:08:27 ETA:   0:14:15"
          ],
          "name": "stderr"
        },
        {
          "output_type": "stream",
          "text": [
            "2019-10-17\n"
          ],
          "name": "stdout"
        },
        {
          "output_type": "stream",
          "text": [
            "\r                                                                               \r\r 47% (175 of 366) |##########            | Elapsed Time: 0:08:31 ETA:   0:13:20"
          ],
          "name": "stderr"
        },
        {
          "output_type": "stream",
          "text": [
            "2019-10-16\n"
          ],
          "name": "stdout"
        },
        {
          "output_type": "stream",
          "text": [
            "\r                                                                               \r\r 48% (176 of 366) |##########            | Elapsed Time: 0:08:35 ETA:   0:12:43"
          ],
          "name": "stderr"
        },
        {
          "output_type": "stream",
          "text": [
            "2019-10-15\n"
          ],
          "name": "stdout"
        },
        {
          "output_type": "stream",
          "text": [
            "\r                                                                               \r\r 48% (177 of 366) |##########            | Elapsed Time: 0:08:39 ETA:   0:13:06"
          ],
          "name": "stderr"
        },
        {
          "output_type": "stream",
          "text": [
            "2019-10-14\n"
          ],
          "name": "stdout"
        },
        {
          "output_type": "stream",
          "text": [
            " 48% (179 of 366) |##########            | Elapsed Time: 0:08:43 ETA:   0:06:31"
          ],
          "name": "stderr"
        },
        {
          "output_type": "stream",
          "text": [
            "2019-10-13\n",
            "2019-10-12\n",
            "2019-10-11\n"
          ],
          "name": "stdout"
        },
        {
          "output_type": "stream",
          "text": [
            "\r                                                                               \r\r 49% (181 of 366) |##########            | Elapsed Time: 0:08:47 ETA:   0:06:24"
          ],
          "name": "stderr"
        },
        {
          "output_type": "stream",
          "text": [
            "2019-10-10\n"
          ],
          "name": "stdout"
        },
        {
          "output_type": "stream",
          "text": [
            "\r                                                                               \r\r 49% (182 of 366) |##########            | Elapsed Time: 0:08:52 ETA:   0:14:02"
          ],
          "name": "stderr"
        },
        {
          "output_type": "stream",
          "text": [
            "2019-10-09\n"
          ],
          "name": "stdout"
        },
        {
          "output_type": "stream",
          "text": [
            "\r                                                                               \r\r 50% (183 of 366) |###########           | Elapsed Time: 0:08:56 ETA:   0:12:23"
          ],
          "name": "stderr"
        },
        {
          "output_type": "stream",
          "text": [
            "2019-10-08\n"
          ],
          "name": "stdout"
        },
        {
          "output_type": "stream",
          "text": [
            "\r                                                                               \r\r 50% (184 of 366) |###########           | Elapsed Time: 0:09:00 ETA:   0:12:08"
          ],
          "name": "stderr"
        },
        {
          "output_type": "stream",
          "text": [
            "2019-10-07\n"
          ],
          "name": "stdout"
        },
        {
          "output_type": "stream",
          "text": [
            " 50% (186 of 366) |###########           | Elapsed Time: 0:09:04 ETA:   0:12:14"
          ],
          "name": "stderr"
        },
        {
          "output_type": "stream",
          "text": [
            "2019-10-06\n",
            "2019-10-05\n"
          ],
          "name": "stdout"
        },
        {
          "output_type": "stream",
          "text": [
            "\r                                                                               \r\r 51% (187 of 366) |###########           | Elapsed Time: 0:09:04 ETA:   0:04:16"
          ],
          "name": "stderr"
        },
        {
          "output_type": "stream",
          "text": [
            "2019-10-04\n"
          ],
          "name": "stdout"
        },
        {
          "output_type": "stream",
          "text": [
            "\r                                                                               \r\r 51% (188 of 366) |###########           | Elapsed Time: 0:09:08 ETA:   0:12:05"
          ],
          "name": "stderr"
        },
        {
          "output_type": "stream",
          "text": [
            "2019-10-03\n"
          ],
          "name": "stdout"
        },
        {
          "output_type": "stream",
          "text": [
            "\r                                                                               \r\r 51% (189 of 366) |###########           | Elapsed Time: 0:09:13 ETA:   0:12:19"
          ],
          "name": "stderr"
        },
        {
          "output_type": "stream",
          "text": [
            "2019-10-02\n"
          ],
          "name": "stdout"
        },
        {
          "output_type": "stream",
          "text": [
            "\r                                                                               \r\r 51% (190 of 366) |###########           | Elapsed Time: 0:09:17 ETA:   0:11:52"
          ],
          "name": "stderr"
        },
        {
          "output_type": "stream",
          "text": [
            "2019-10-01\n"
          ],
          "name": "stdout"
        },
        {
          "output_type": "stream",
          "text": [
            "\r                                                                               \r\r 52% (191 of 366) |###########           | Elapsed Time: 0:09:21 ETA:   0:11:35"
          ],
          "name": "stderr"
        },
        {
          "output_type": "stream",
          "text": [
            "2019-09-30\n"
          ],
          "name": "stdout"
        },
        {
          "output_type": "stream",
          "text": [
            " 53% (194 of 366) |###########           | Elapsed Time: 0:09:25 ETA:   0:04:06"
          ],
          "name": "stderr"
        },
        {
          "output_type": "stream",
          "text": [
            "2019-09-29\n",
            "2019-09-28\n",
            "2019-09-27\n"
          ],
          "name": "stdout"
        },
        {
          "output_type": "stream",
          "text": [
            "\r                                                                               \r\r 53% (195 of 366) |###########           | Elapsed Time: 0:09:29 ETA:   0:12:03"
          ],
          "name": "stderr"
        },
        {
          "output_type": "stream",
          "text": [
            "2019-09-26\n"
          ],
          "name": "stdout"
        },
        {
          "output_type": "stream",
          "text": [
            "\r                                                                               \r\r 53% (196 of 366) |###########           | Elapsed Time: 0:09:33 ETA:   0:11:36"
          ],
          "name": "stderr"
        },
        {
          "output_type": "stream",
          "text": [
            "2019-09-25\n"
          ],
          "name": "stdout"
        },
        {
          "output_type": "stream",
          "text": [
            "\r                                                                               \r\r 53% (197 of 366) |###########           | Elapsed Time: 0:09:37 ETA:   0:11:41"
          ],
          "name": "stderr"
        },
        {
          "output_type": "stream",
          "text": [
            "2019-09-24\n"
          ],
          "name": "stdout"
        },
        {
          "output_type": "stream",
          "text": [
            "\r                                                                               \r\r 54% (198 of 366) |###########           | Elapsed Time: 0:09:41 ETA:   0:11:28"
          ],
          "name": "stderr"
        },
        {
          "output_type": "stream",
          "text": [
            "2019-09-23\n"
          ],
          "name": "stdout"
        },
        {
          "output_type": "stream",
          "text": [
            " 54% (200 of 366) |############          | Elapsed Time: 0:09:46 ETA:   0:11:14"
          ],
          "name": "stderr"
        },
        {
          "output_type": "stream",
          "text": [
            "2019-09-22\n",
            "2019-09-21\n"
          ],
          "name": "stdout"
        },
        {
          "output_type": "stream",
          "text": [
            "\r                                                                               \r\r 54% (201 of 366) |############          | Elapsed Time: 0:09:46 ETA:   0:04:06"
          ],
          "name": "stderr"
        },
        {
          "output_type": "stream",
          "text": [
            "2019-09-20\n"
          ],
          "name": "stdout"
        },
        {
          "output_type": "stream",
          "text": [
            "\r                                                                               \r\r 55% (202 of 366) |############          | Elapsed Time: 0:09:50 ETA:   0:10:59"
          ],
          "name": "stderr"
        },
        {
          "output_type": "stream",
          "text": [
            "2019-09-19\n"
          ],
          "name": "stdout"
        },
        {
          "output_type": "stream",
          "text": [
            "\r                                                                               \r\r 55% (203 of 366) |############          | Elapsed Time: 0:09:54 ETA:   0:11:23"
          ],
          "name": "stderr"
        },
        {
          "output_type": "stream",
          "text": [
            "2019-09-18\n"
          ],
          "name": "stdout"
        },
        {
          "output_type": "stream",
          "text": [
            "\r                                                                               \r\r 55% (204 of 366) |############          | Elapsed Time: 0:09:58 ETA:   0:11:13"
          ],
          "name": "stderr"
        },
        {
          "output_type": "stream",
          "text": [
            "2019-09-17\n"
          ],
          "name": "stdout"
        },
        {
          "output_type": "stream",
          "text": [
            "\r                                                                               \r\r 56% (205 of 366) |############          | Elapsed Time: 0:10:02 ETA:   0:10:53"
          ],
          "name": "stderr"
        },
        {
          "output_type": "stream",
          "text": [
            "2019-09-16\n"
          ],
          "name": "stdout"
        },
        {
          "output_type": "stream",
          "text": [
            " 56% (207 of 366) |############          | Elapsed Time: 0:10:07 ETA:   0:05:46"
          ],
          "name": "stderr"
        },
        {
          "output_type": "stream",
          "text": [
            "2019-09-15\n",
            "2019-09-14\n",
            "2019-09-13\n"
          ],
          "name": "stdout"
        },
        {
          "output_type": "stream",
          "text": [
            "\r                                                                               \r\r 57% (209 of 366) |############          | Elapsed Time: 0:10:11 ETA:   0:05:27"
          ],
          "name": "stderr"
        },
        {
          "output_type": "stream",
          "text": [
            "2019-09-12\n"
          ],
          "name": "stdout"
        },
        {
          "output_type": "stream",
          "text": [
            "\r                                                                               \r\r 57% (210 of 366) |############          | Elapsed Time: 0:10:15 ETA:   0:10:25"
          ],
          "name": "stderr"
        },
        {
          "output_type": "stream",
          "text": [
            "2019-09-11\n"
          ],
          "name": "stdout"
        },
        {
          "output_type": "stream",
          "text": [
            "\r                                                                               \r\r 57% (211 of 366) |############          | Elapsed Time: 0:10:19 ETA:   0:11:09"
          ],
          "name": "stderr"
        },
        {
          "output_type": "stream",
          "text": [
            "2019-09-10\n"
          ],
          "name": "stdout"
        },
        {
          "output_type": "stream",
          "text": [
            "\r                                                                               \r\r 57% (212 of 366) |############          | Elapsed Time: 0:10:23 ETA:   0:10:32"
          ],
          "name": "stderr"
        },
        {
          "output_type": "stream",
          "text": [
            "2019-09-09\n"
          ],
          "name": "stdout"
        },
        {
          "output_type": "stream",
          "text": [
            " 58% (214 of 366) |############          | Elapsed Time: 0:10:28 ETA:   0:05:17"
          ],
          "name": "stderr"
        },
        {
          "output_type": "stream",
          "text": [
            "2019-09-08\n",
            "2019-09-07\n",
            "2019-09-06\n"
          ],
          "name": "stdout"
        },
        {
          "output_type": "stream",
          "text": [
            "\r                                                                               \r\r 59% (216 of 366) |############          | Elapsed Time: 0:10:32 ETA:   0:05:11"
          ],
          "name": "stderr"
        },
        {
          "output_type": "stream",
          "text": [
            "2019-09-05\n"
          ],
          "name": "stdout"
        },
        {
          "output_type": "stream",
          "text": [
            "\r                                                                               \r\r 59% (217 of 366) |#############         | Elapsed Time: 0:10:36 ETA:   0:10:28"
          ],
          "name": "stderr"
        },
        {
          "output_type": "stream",
          "text": [
            "2019-09-04\n"
          ],
          "name": "stdout"
        },
        {
          "output_type": "stream",
          "text": [
            "\r                                                                               \r\r 59% (218 of 366) |#############         | Elapsed Time: 0:10:40 ETA:   0:10:07"
          ],
          "name": "stderr"
        },
        {
          "output_type": "stream",
          "text": [
            "2019-09-03\n"
          ],
          "name": "stdout"
        },
        {
          "output_type": "stream",
          "text": [
            " 60% (220 of 366) |#############         | Elapsed Time: 0:10:44 ETA:   0:05:25"
          ],
          "name": "stderr"
        },
        {
          "output_type": "stream",
          "text": [
            "2019-09-02\n",
            "2019-09-01\n"
          ],
          "name": "stdout"
        },
        {
          "output_type": "stream",
          "text": [
            "\r                                                                               \r\r 60% (222 of 366) |#############         | Elapsed Time: 0:10:45 ETA:   0:02:47"
          ],
          "name": "stderr"
        },
        {
          "output_type": "stream",
          "text": [
            "2019-08-31\n",
            "2019-08-30\n"
          ],
          "name": "stdout"
        },
        {
          "output_type": "stream",
          "text": [
            "\r                                                                               \r\r 60% (223 of 366) |#############         | Elapsed Time: 0:10:49 ETA:   0:09:32"
          ],
          "name": "stderr"
        },
        {
          "output_type": "stream",
          "text": [
            "2019-08-29\n"
          ],
          "name": "stdout"
        },
        {
          "output_type": "stream",
          "text": [
            "\r                                                                               \r\r 61% (224 of 366) |#############         | Elapsed Time: 0:10:53 ETA:   0:09:37"
          ],
          "name": "stderr"
        },
        {
          "output_type": "stream",
          "text": [
            "2019-08-28\n"
          ],
          "name": "stdout"
        },
        {
          "output_type": "stream",
          "text": [
            "\r                                                                               \r\r 61% (225 of 366) |#############         | Elapsed Time: 0:10:57 ETA:   0:09:14"
          ],
          "name": "stderr"
        },
        {
          "output_type": "stream",
          "text": [
            "2019-08-27\n"
          ],
          "name": "stdout"
        },
        {
          "output_type": "stream",
          "text": [
            "\r                                                                               \r\r 61% (226 of 366) |#############         | Elapsed Time: 0:11:01 ETA:   0:09:35"
          ],
          "name": "stderr"
        },
        {
          "output_type": "stream",
          "text": [
            "2019-08-26\n"
          ],
          "name": "stdout"
        },
        {
          "output_type": "stream",
          "text": [
            " 62% (228 of 366) |#############         | Elapsed Time: 0:11:05 ETA:   0:04:49"
          ],
          "name": "stderr"
        },
        {
          "output_type": "stream",
          "text": [
            "2019-08-25\n",
            "2019-08-24\n"
          ],
          "name": "stdout"
        },
        {
          "output_type": "stream",
          "text": [
            "\r                                                                               \r\r 62% (229 of 366) |#############         | Elapsed Time: 0:11:05 ETA:   0:03:16"
          ],
          "name": "stderr"
        },
        {
          "output_type": "stream",
          "text": [
            "2019-08-23\n"
          ],
          "name": "stdout"
        },
        {
          "output_type": "stream",
          "text": [
            "\r                                                                               \r\r 62% (230 of 366) |#############         | Elapsed Time: 0:11:09 ETA:   0:09:40"
          ],
          "name": "stderr"
        },
        {
          "output_type": "stream",
          "text": [
            "2019-08-22\n"
          ],
          "name": "stdout"
        },
        {
          "output_type": "stream",
          "text": [
            "\r                                                                               \r\r 63% (231 of 366) |#############         | Elapsed Time: 0:11:14 ETA:   0:09:41"
          ],
          "name": "stderr"
        },
        {
          "output_type": "stream",
          "text": [
            "2019-08-21\n"
          ],
          "name": "stdout"
        },
        {
          "output_type": "stream",
          "text": [
            "\r                                                                               \r\r 63% (232 of 366) |#############         | Elapsed Time: 0:11:18 ETA:   0:09:19"
          ],
          "name": "stderr"
        },
        {
          "output_type": "stream",
          "text": [
            "2019-08-20\n"
          ],
          "name": "stdout"
        },
        {
          "output_type": "stream",
          "text": [
            "\r                                                                               \r\r 63% (233 of 366) |##############        | Elapsed Time: 0:11:22 ETA:   0:09:29"
          ],
          "name": "stderr"
        },
        {
          "output_type": "stream",
          "text": [
            "2019-08-19\n"
          ],
          "name": "stdout"
        },
        {
          "output_type": "stream",
          "text": [
            " 64% (235 of 366) |##############        | Elapsed Time: 0:11:27 ETA:   0:04:57"
          ],
          "name": "stderr"
        },
        {
          "output_type": "stream",
          "text": [
            "2019-08-18\n",
            "2019-08-17\n",
            "2019-08-16\n"
          ],
          "name": "stdout"
        },
        {
          "output_type": "stream",
          "text": [
            "\r                                                                               \r\r 64% (237 of 366) |##############        | Elapsed Time: 0:11:31 ETA:   0:04:23"
          ],
          "name": "stderr"
        },
        {
          "output_type": "stream",
          "text": [
            "2019-08-15\n"
          ],
          "name": "stdout"
        },
        {
          "output_type": "stream",
          "text": [
            "\r                                                                               \r\r 65% (238 of 366) |##############        | Elapsed Time: 0:11:35 ETA:   0:08:22"
          ],
          "name": "stderr"
        },
        {
          "output_type": "stream",
          "text": [
            "2019-08-14\n"
          ],
          "name": "stdout"
        },
        {
          "output_type": "stream",
          "text": [
            "\r                                                                               \r\r 65% (239 of 366) |##############        | Elapsed Time: 0:11:39 ETA:   0:08:49"
          ],
          "name": "stderr"
        },
        {
          "output_type": "stream",
          "text": [
            "2019-08-13\n"
          ],
          "name": "stdout"
        },
        {
          "output_type": "stream",
          "text": [
            "\r                                                                               \r\r 65% (240 of 366) |##############        | Elapsed Time: 0:11:43 ETA:   0:08:45"
          ],
          "name": "stderr"
        },
        {
          "output_type": "stream",
          "text": [
            "2019-08-12\n"
          ],
          "name": "stdout"
        },
        {
          "output_type": "stream",
          "text": [
            " 66% (243 of 366) |##############        | Elapsed Time: 0:11:47 ETA:   0:02:55"
          ],
          "name": "stderr"
        },
        {
          "output_type": "stream",
          "text": [
            "2019-08-11\n",
            "2019-08-10\n",
            "2019-08-09\n"
          ],
          "name": "stdout"
        },
        {
          "output_type": "stream",
          "text": [
            "\r                                                                               \r\r 66% (244 of 366) |##############        | Elapsed Time: 0:11:51 ETA:   0:08:17"
          ],
          "name": "stderr"
        },
        {
          "output_type": "stream",
          "text": [
            "2019-08-08\n"
          ],
          "name": "stdout"
        },
        {
          "output_type": "stream",
          "text": [
            "\r                                                                               \r\r 66% (245 of 366) |##############        | Elapsed Time: 0:11:55 ETA:   0:08:03"
          ],
          "name": "stderr"
        },
        {
          "output_type": "stream",
          "text": [
            "2019-08-07\n"
          ],
          "name": "stdout"
        },
        {
          "output_type": "stream",
          "text": [
            "\r                                                                               \r\r 67% (246 of 366) |##############        | Elapsed Time: 0:11:59 ETA:   0:08:16"
          ],
          "name": "stderr"
        },
        {
          "output_type": "stream",
          "text": [
            "2019-08-06\n"
          ],
          "name": "stdout"
        },
        {
          "output_type": "stream",
          "text": [
            "\r                                                                               \r\r 67% (247 of 366) |##############        | Elapsed Time: 0:12:04 ETA:   0:08:08"
          ],
          "name": "stderr"
        },
        {
          "output_type": "stream",
          "text": [
            "2019-08-05\n"
          ],
          "name": "stdout"
        },
        {
          "output_type": "stream",
          "text": [
            " 68% (250 of 366) |###############       | Elapsed Time: 0:12:08 ETA:   0:02:43"
          ],
          "name": "stderr"
        },
        {
          "output_type": "stream",
          "text": [
            "2019-08-04\n",
            "2019-08-03\n",
            "2019-08-02\n"
          ],
          "name": "stdout"
        },
        {
          "output_type": "stream",
          "text": [
            "\r                                                                               \r\r 68% (251 of 366) |###############       | Elapsed Time: 0:12:12 ETA:   0:07:33"
          ],
          "name": "stderr"
        },
        {
          "output_type": "stream",
          "text": [
            "2019-08-01\n"
          ],
          "name": "stdout"
        },
        {
          "output_type": "stream",
          "text": [
            "\r                                                                               \r\r 68% (252 of 366) |###############       | Elapsed Time: 0:12:16 ETA:   0:08:37"
          ],
          "name": "stderr"
        },
        {
          "output_type": "stream",
          "text": [
            "2019-07-31\n"
          ],
          "name": "stdout"
        },
        {
          "output_type": "stream",
          "text": [
            "\r                                                                               \r\r 69% (253 of 366) |###############       | Elapsed Time: 0:12:20 ETA:   0:07:34"
          ],
          "name": "stderr"
        },
        {
          "output_type": "stream",
          "text": [
            "2019-07-30\n"
          ],
          "name": "stdout"
        },
        {
          "output_type": "stream",
          "text": [
            "\r                                                                               \r\r 69% (254 of 366) |###############       | Elapsed Time: 0:12:24 ETA:   0:07:34"
          ],
          "name": "stderr"
        },
        {
          "output_type": "stream",
          "text": [
            "2019-07-29\n"
          ],
          "name": "stdout"
        },
        {
          "output_type": "stream",
          "text": [
            " 69% (256 of 366) |###############       | Elapsed Time: 0:12:29 ETA:   0:03:47"
          ],
          "name": "stderr"
        },
        {
          "output_type": "stream",
          "text": [
            "2019-07-28\n",
            "2019-07-27\n",
            "2019-07-26\n"
          ],
          "name": "stdout"
        },
        {
          "output_type": "stream",
          "text": [
            "\r                                                                               \r\r 70% (258 of 366) |###############       | Elapsed Time: 0:12:33 ETA:   0:03:36"
          ],
          "name": "stderr"
        },
        {
          "output_type": "stream",
          "text": [
            "2019-07-25\n"
          ],
          "name": "stdout"
        },
        {
          "output_type": "stream",
          "text": [
            "\r                                                                               \r\r 70% (259 of 366) |###############       | Elapsed Time: 0:12:36 ETA:   0:07:02"
          ],
          "name": "stderr"
        },
        {
          "output_type": "stream",
          "text": [
            "2019-07-24\n"
          ],
          "name": "stdout"
        },
        {
          "output_type": "stream",
          "text": [
            "\r                                                                               \r\r 71% (260 of 366) |###############       | Elapsed Time: 0:12:41 ETA:   0:07:38"
          ],
          "name": "stderr"
        },
        {
          "output_type": "stream",
          "text": [
            "2019-07-23\n"
          ],
          "name": "stdout"
        },
        {
          "output_type": "stream",
          "text": [
            "\r                                                                               \r\r 71% (261 of 366) |###############       | Elapsed Time: 0:12:45 ETA:   0:07:05"
          ],
          "name": "stderr"
        },
        {
          "output_type": "stream",
          "text": [
            "2019-07-22\n"
          ],
          "name": "stdout"
        },
        {
          "output_type": "stream",
          "text": [
            " 71% (263 of 366) |###############       | Elapsed Time: 0:12:49 ETA:   0:03:41"
          ],
          "name": "stderr"
        },
        {
          "output_type": "stream",
          "text": [
            "2019-07-21\n",
            "2019-07-20\n",
            "2019-07-19\n"
          ],
          "name": "stdout"
        },
        {
          "output_type": "stream",
          "text": [
            "\r                                                                               \r\r 72% (265 of 366) |###############       | Elapsed Time: 0:12:53 ETA:   0:03:27"
          ],
          "name": "stderr"
        },
        {
          "output_type": "stream",
          "text": [
            "2019-07-18\n"
          ],
          "name": "stdout"
        },
        {
          "output_type": "stream",
          "text": [
            "\r                                                                               \r\r 72% (266 of 366) |###############       | Elapsed Time: 0:12:57 ETA:   0:06:51"
          ],
          "name": "stderr"
        },
        {
          "output_type": "stream",
          "text": [
            "2019-07-17\n"
          ],
          "name": "stdout"
        },
        {
          "output_type": "stream",
          "text": [
            "\r                                                                               \r\r 72% (267 of 366) |################      | Elapsed Time: 0:13:01 ETA:   0:06:42"
          ],
          "name": "stderr"
        },
        {
          "output_type": "stream",
          "text": [
            "2019-07-16\n"
          ],
          "name": "stdout"
        },
        {
          "output_type": "stream",
          "text": [
            "\r                                                                               \r\r 73% (268 of 366) |################      | Elapsed Time: 0:13:05 ETA:   0:06:37"
          ],
          "name": "stderr"
        },
        {
          "output_type": "stream",
          "text": [
            "2019-07-15\n"
          ],
          "name": "stdout"
        },
        {
          "output_type": "stream",
          "text": [
            " 73% (270 of 366) |################      | Elapsed Time: 0:13:10 ETA:   0:03:14"
          ],
          "name": "stderr"
        },
        {
          "output_type": "stream",
          "text": [
            "2019-07-14\n",
            "2019-07-13\n"
          ],
          "name": "stdout"
        },
        {
          "output_type": "stream",
          "text": [
            "\r                                                                               \r\r 74% (271 of 366) |################      | Elapsed Time: 0:13:10 ETA:   0:02:12"
          ],
          "name": "stderr"
        },
        {
          "output_type": "stream",
          "text": [
            "2019-07-12\n"
          ],
          "name": "stdout"
        },
        {
          "output_type": "stream",
          "text": [
            "\r                                                                               \r\r 74% (272 of 366) |################      | Elapsed Time: 0:13:14 ETA:   0:06:28"
          ],
          "name": "stderr"
        },
        {
          "output_type": "stream",
          "text": [
            "2019-07-11\n"
          ],
          "name": "stdout"
        },
        {
          "output_type": "stream",
          "text": [
            "\r                                                                               \r\r 74% (273 of 366) |################      | Elapsed Time: 0:13:18 ETA:   0:06:12"
          ],
          "name": "stderr"
        },
        {
          "output_type": "stream",
          "text": [
            "2019-07-10\n"
          ],
          "name": "stdout"
        },
        {
          "output_type": "stream",
          "text": [
            "\r                                                                               \r\r 74% (274 of 366) |################      | Elapsed Time: 0:13:22 ETA:   0:06:09"
          ],
          "name": "stderr"
        },
        {
          "output_type": "stream",
          "text": [
            "2019-07-09\n"
          ],
          "name": "stdout"
        },
        {
          "output_type": "stream",
          "text": [
            "\r                                                                               \r\r 75% (275 of 366) |################      | Elapsed Time: 0:13:26 ETA:   0:06:04"
          ],
          "name": "stderr"
        },
        {
          "output_type": "stream",
          "text": [
            "2019-07-08\n"
          ],
          "name": "stdout"
        },
        {
          "output_type": "stream",
          "text": [
            " 75% (277 of 366) |################      | Elapsed Time: 0:13:30 ETA:   0:03:10"
          ],
          "name": "stderr"
        },
        {
          "output_type": "stream",
          "text": [
            "2019-07-07\n",
            "2019-07-06\n"
          ],
          "name": "stdout"
        },
        {
          "output_type": "stream",
          "text": [
            "\r                                                                               \r\r 75% (278 of 366) |################      | Elapsed Time: 0:13:30 ETA:   0:03:08"
          ],
          "name": "stderr"
        },
        {
          "output_type": "stream",
          "text": [
            "2019-07-05\n"
          ],
          "name": "stdout"
        },
        {
          "output_type": "stream",
          "text": [
            "\r                                                                               \r\r 76% (279 of 366) |################      | Elapsed Time: 0:13:34 ETA:   0:02:53"
          ],
          "name": "stderr"
        },
        {
          "output_type": "stream",
          "text": [
            "2019-07-04\n",
            "2019-07-03\n"
          ],
          "name": "stdout"
        },
        {
          "output_type": "stream",
          "text": [
            "\r                                                                               \r\r 76% (281 of 366) |################      | Elapsed Time: 0:13:39 ETA:   0:03:10"
          ],
          "name": "stderr"
        },
        {
          "output_type": "stream",
          "text": [
            "2019-07-02\n"
          ],
          "name": "stdout"
        },
        {
          "output_type": "stream",
          "text": [
            "\r                                                                               \r\r 77% (282 of 366) |################      | Elapsed Time: 0:13:43 ETA:   0:05:39"
          ],
          "name": "stderr"
        },
        {
          "output_type": "stream",
          "text": [
            "2019-07-01\n"
          ],
          "name": "stdout"
        },
        {
          "output_type": "stream",
          "text": [
            " 77% (284 of 366) |#################     | Elapsed Time: 0:13:47 ETA:   0:02:44"
          ],
          "name": "stderr"
        },
        {
          "output_type": "stream",
          "text": [
            "2019-06-30\n",
            "2019-06-29\n",
            "2019-06-28\n"
          ],
          "name": "stdout"
        },
        {
          "output_type": "stream",
          "text": [
            "\r                                                                               \r\r 78% (286 of 366) |#################     | Elapsed Time: 0:13:51 ETA:   0:02:45"
          ],
          "name": "stderr"
        },
        {
          "output_type": "stream",
          "text": [
            "2019-06-27\n"
          ],
          "name": "stdout"
        },
        {
          "output_type": "stream",
          "text": [
            "\r                                                                               \r\r 78% (287 of 366) |#################     | Elapsed Time: 0:13:55 ETA:   0:05:13"
          ],
          "name": "stderr"
        },
        {
          "output_type": "stream",
          "text": [
            "2019-06-26\n"
          ],
          "name": "stdout"
        },
        {
          "output_type": "stream",
          "text": [
            "\r                                                                               \r\r 78% (288 of 366) |#################     | Elapsed Time: 0:13:59 ETA:   0:05:15"
          ],
          "name": "stderr"
        },
        {
          "output_type": "stream",
          "text": [
            "2019-06-25\n"
          ],
          "name": "stdout"
        },
        {
          "output_type": "stream",
          "text": [
            "\r                                                                               \r\r 78% (289 of 366) |#################     | Elapsed Time: 0:14:03 ETA:   0:05:13"
          ],
          "name": "stderr"
        },
        {
          "output_type": "stream",
          "text": [
            "2019-06-24\n"
          ],
          "name": "stdout"
        },
        {
          "output_type": "stream",
          "text": [
            "\r                                                                               \r\r 79% (290 of 366) |#################     | Elapsed Time: 0:14:07 ETA:   0:05:15"
          ],
          "name": "stderr"
        },
        {
          "output_type": "stream",
          "text": [
            "2019-06-23\n",
            "2019-06-22\n"
          ],
          "name": "stdout"
        },
        {
          "output_type": "stream",
          "text": [
            "\r                                                                               \r\r 79% (292 of 366) |#################     | Elapsed Time: 0:14:07 ETA:   0:01:48"
          ],
          "name": "stderr"
        },
        {
          "output_type": "stream",
          "text": [
            "2019-06-21\n"
          ],
          "name": "stdout"
        },
        {
          "output_type": "stream",
          "text": [
            "\r                                                                               \r\r 80% (293 of 366) |#################     | Elapsed Time: 0:14:11 ETA:   0:04:43"
          ],
          "name": "stderr"
        },
        {
          "output_type": "stream",
          "text": [
            "2019-06-20\n"
          ],
          "name": "stdout"
        },
        {
          "output_type": "stream",
          "text": [
            "\r                                                                               \r\r 80% (294 of 366) |#################     | Elapsed Time: 0:14:15 ETA:   0:04:50"
          ],
          "name": "stderr"
        },
        {
          "output_type": "stream",
          "text": [
            "2019-06-19\n"
          ],
          "name": "stdout"
        },
        {
          "output_type": "stream",
          "text": [
            "\r                                                                               \r\r 80% (295 of 366) |#################     | Elapsed Time: 0:14:19 ETA:   0:04:48"
          ],
          "name": "stderr"
        },
        {
          "output_type": "stream",
          "text": [
            "2019-06-18\n"
          ],
          "name": "stdout"
        },
        {
          "output_type": "stream",
          "text": [
            "\r                                                                               \r\r 80% (296 of 366) |#################     | Elapsed Time: 0:14:23 ETA:   0:04:42"
          ],
          "name": "stderr"
        },
        {
          "output_type": "stream",
          "text": [
            "2019-06-17\n"
          ],
          "name": "stdout"
        },
        {
          "output_type": "stream",
          "text": [
            " 81% (298 of 366) |#################     | Elapsed Time: 0:14:28 ETA:   0:02:33"
          ],
          "name": "stderr"
        },
        {
          "output_type": "stream",
          "text": [
            "2019-06-16\n",
            "2019-06-15\n",
            "2019-06-14\n"
          ],
          "name": "stdout"
        },
        {
          "output_type": "stream",
          "text": [
            "\r                                                                               \r\r 81% (300 of 366) |##################    | Elapsed Time: 0:14:32 ETA:   0:02:14"
          ],
          "name": "stderr"
        },
        {
          "output_type": "stream",
          "text": [
            "2019-06-13\n"
          ],
          "name": "stdout"
        },
        {
          "output_type": "stream",
          "text": [
            "\r                                                                               \r\r 82% (301 of 366) |##################    | Elapsed Time: 0:14:36 ETA:   0:04:29"
          ],
          "name": "stderr"
        },
        {
          "output_type": "stream",
          "text": [
            "2019-06-12\n"
          ],
          "name": "stdout"
        },
        {
          "output_type": "stream",
          "text": [
            "\r                                                                               \r\r 82% (302 of 366) |##################    | Elapsed Time: 0:14:40 ETA:   0:04:07"
          ],
          "name": "stderr"
        },
        {
          "output_type": "stream",
          "text": [
            "2019-06-11\n"
          ],
          "name": "stdout"
        },
        {
          "output_type": "stream",
          "text": [
            "\r                                                                               \r\r 82% (303 of 366) |##################    | Elapsed Time: 0:14:44 ETA:   0:04:40"
          ],
          "name": "stderr"
        },
        {
          "output_type": "stream",
          "text": [
            "2019-06-10\n"
          ],
          "name": "stdout"
        },
        {
          "output_type": "stream",
          "text": [
            " 83% (306 of 366) |##################    | Elapsed Time: 0:14:48 ETA:   0:01:22"
          ],
          "name": "stderr"
        },
        {
          "output_type": "stream",
          "text": [
            "2019-06-09\n",
            "2019-06-08\n",
            "2019-06-07\n"
          ],
          "name": "stdout"
        },
        {
          "output_type": "stream",
          "text": [
            "\r                                                                               \r\r 83% (307 of 366) |##################    | Elapsed Time: 0:14:52 ETA:   0:03:54"
          ],
          "name": "stderr"
        },
        {
          "output_type": "stream",
          "text": [
            "2019-06-06\n"
          ],
          "name": "stdout"
        },
        {
          "output_type": "stream",
          "text": [
            "\r                                                                               \r\r 84% (308 of 366) |##################    | Elapsed Time: 0:14:57 ETA:   0:04:05"
          ],
          "name": "stderr"
        },
        {
          "output_type": "stream",
          "text": [
            "2019-06-05\n"
          ],
          "name": "stdout"
        },
        {
          "output_type": "stream",
          "text": [
            "\r                                                                               \r\r 84% (309 of 366) |##################    | Elapsed Time: 0:15:01 ETA:   0:03:46"
          ],
          "name": "stderr"
        },
        {
          "output_type": "stream",
          "text": [
            "2019-06-04\n"
          ],
          "name": "stdout"
        },
        {
          "output_type": "stream",
          "text": [
            "\r                                                                               \r\r 84% (310 of 366) |##################    | Elapsed Time: 0:15:05 ETA:   0:03:42"
          ],
          "name": "stderr"
        },
        {
          "output_type": "stream",
          "text": [
            "2019-06-03\n"
          ],
          "name": "stdout"
        },
        {
          "output_type": "stream",
          "text": [
            "\r                                                                               \r\r 84% (311 of 366) |##################    | Elapsed Time: 0:15:09 ETA:   0:03:40"
          ],
          "name": "stderr"
        },
        {
          "output_type": "stream",
          "text": [
            "2019-06-02\n",
            "2019-06-01\n"
          ],
          "name": "stdout"
        },
        {
          "output_type": "stream",
          "text": [
            "\r                                                                               \r\r 85% (313 of 366) |##################    | Elapsed Time: 0:15:09 ETA:   0:01:14"
          ],
          "name": "stderr"
        },
        {
          "output_type": "stream",
          "text": [
            "2019-05-31\n"
          ],
          "name": "stdout"
        },
        {
          "output_type": "stream",
          "text": [
            "\r                                                                               \r\r 85% (314 of 366) |##################    | Elapsed Time: 0:15:13 ETA:   0:03:22"
          ],
          "name": "stderr"
        },
        {
          "output_type": "stream",
          "text": [
            "2019-05-30\n"
          ],
          "name": "stdout"
        },
        {
          "output_type": "stream",
          "text": [
            "\r                                                                               \r\r 86% (315 of 366) |##################    | Elapsed Time: 0:15:17 ETA:   0:03:24"
          ],
          "name": "stderr"
        },
        {
          "output_type": "stream",
          "text": [
            "2019-05-29\n"
          ],
          "name": "stdout"
        },
        {
          "output_type": "stream",
          "text": [
            "\r                                                                               \r\r 86% (316 of 366) |##################    | Elapsed Time: 0:15:21 ETA:   0:03:21"
          ],
          "name": "stderr"
        },
        {
          "output_type": "stream",
          "text": [
            "2019-05-28\n"
          ],
          "name": "stdout"
        },
        {
          "output_type": "stream",
          "text": [
            " 87% (319 of 366) |###################   | Elapsed Time: 0:15:25 ETA:   0:01:11"
          ],
          "name": "stderr"
        },
        {
          "output_type": "stream",
          "text": [
            "2019-05-27\n",
            "2019-05-26\n",
            "2019-05-25\n"
          ],
          "name": "stdout"
        },
        {
          "output_type": "stream",
          "text": [
            "\r                                                                               \r\r 87% (320 of 366) |###################   | Elapsed Time: 0:15:25 ETA:   0:01:09"
          ],
          "name": "stderr"
        },
        {
          "output_type": "stream",
          "text": [
            "2019-05-24\n"
          ],
          "name": "stdout"
        },
        {
          "output_type": "stream",
          "text": [
            "\r                                                                               \r\r 87% (321 of 366) |###################   | Elapsed Time: 0:15:29 ETA:   0:01:31"
          ],
          "name": "stderr"
        },
        {
          "output_type": "stream",
          "text": [
            "2019-05-23\n"
          ],
          "name": "stdout"
        },
        {
          "output_type": "stream",
          "text": [
            "\r                                                                               \r\r 87% (322 of 366) |###################   | Elapsed Time: 0:15:33 ETA:   0:02:53"
          ],
          "name": "stderr"
        },
        {
          "output_type": "stream",
          "text": [
            "2019-05-22\n"
          ],
          "name": "stdout"
        },
        {
          "output_type": "stream",
          "text": [
            "\r                                                                               \r\r 88% (323 of 366) |###################   | Elapsed Time: 0:15:37 ETA:   0:02:53"
          ],
          "name": "stderr"
        },
        {
          "output_type": "stream",
          "text": [
            "2019-05-21\n"
          ],
          "name": "stdout"
        },
        {
          "output_type": "stream",
          "text": [
            "\r                                                                               \r\r 88% (324 of 366) |###################   | Elapsed Time: 0:15:41 ETA:   0:02:47"
          ],
          "name": "stderr"
        },
        {
          "output_type": "stream",
          "text": [
            "2019-05-20\n"
          ],
          "name": "stdout"
        },
        {
          "output_type": "stream",
          "text": [
            " 89% (326 of 366) |###################   | Elapsed Time: 0:15:45 ETA:   0:01:21"
          ],
          "name": "stderr"
        },
        {
          "output_type": "stream",
          "text": [
            "2019-05-19\n",
            "2019-05-18\n",
            "2019-05-17\n"
          ],
          "name": "stdout"
        },
        {
          "output_type": "stream",
          "text": [
            "\r                                                                               \r\r 89% (328 of 366) |###################   | Elapsed Time: 0:15:50 ETA:   0:01:21"
          ],
          "name": "stderr"
        },
        {
          "output_type": "stream",
          "text": [
            "2019-05-16\n"
          ],
          "name": "stdout"
        },
        {
          "output_type": "stream",
          "text": [
            "\r                                                                               \r\r 89% (329 of 366) |###################   | Elapsed Time: 0:15:54 ETA:   0:02:26"
          ],
          "name": "stderr"
        },
        {
          "output_type": "stream",
          "text": [
            "2019-05-15\n"
          ],
          "name": "stdout"
        },
        {
          "output_type": "stream",
          "text": [
            "\r                                                                               \r\r 90% (330 of 366) |###################   | Elapsed Time: 0:15:58 ETA:   0:02:22"
          ],
          "name": "stderr"
        },
        {
          "output_type": "stream",
          "text": [
            "2019-05-14\n"
          ],
          "name": "stdout"
        },
        {
          "output_type": "stream",
          "text": [
            "\r                                                                               \r\r 90% (331 of 366) |###################   | Elapsed Time: 0:16:02 ETA:   0:02:34"
          ],
          "name": "stderr"
        },
        {
          "output_type": "stream",
          "text": [
            "2019-05-13\n"
          ],
          "name": "stdout"
        },
        {
          "output_type": "stream",
          "text": [
            " 90% (333 of 366) |####################  | Elapsed Time: 0:16:06 ETA:   0:01:09"
          ],
          "name": "stderr"
        },
        {
          "output_type": "stream",
          "text": [
            "2019-05-12\n",
            "2019-05-11\n"
          ],
          "name": "stdout"
        },
        {
          "output_type": "stream",
          "text": [
            "\r                                                                               \r\r 91% (334 of 366) |####################  | Elapsed Time: 0:16:06 ETA:   0:01:07"
          ],
          "name": "stderr"
        },
        {
          "output_type": "stream",
          "text": [
            "2019-05-10\n"
          ],
          "name": "stdout"
        },
        {
          "output_type": "stream",
          "text": [
            "\r                                                                               \r\r 91% (335 of 366) |####################  | Elapsed Time: 0:16:11 ETA:   0:01:06"
          ],
          "name": "stderr"
        },
        {
          "output_type": "stream",
          "text": [
            "2019-05-09\n"
          ],
          "name": "stdout"
        },
        {
          "output_type": "stream",
          "text": [
            "\r                                                                               \r\r 91% (336 of 366) |####################  | Elapsed Time: 0:16:14 ETA:   0:01:55"
          ],
          "name": "stderr"
        },
        {
          "output_type": "stream",
          "text": [
            "2019-05-08\n"
          ],
          "name": "stdout"
        },
        {
          "output_type": "stream",
          "text": [
            "\r                                                                               \r\r 92% (337 of 366) |####################  | Elapsed Time: 0:16:18 ETA:   0:01:57"
          ],
          "name": "stderr"
        },
        {
          "output_type": "stream",
          "text": [
            "2019-05-07\n"
          ],
          "name": "stdout"
        },
        {
          "output_type": "stream",
          "text": [
            "\r                                                                               \r\r 92% (338 of 366) |####################  | Elapsed Time: 0:16:22 ETA:   0:01:49"
          ],
          "name": "stderr"
        },
        {
          "output_type": "stream",
          "text": [
            "2019-05-06\n"
          ],
          "name": "stdout"
        },
        {
          "output_type": "stream",
          "text": [
            " 93% (341 of 366) |####################  | Elapsed Time: 0:16:27 ETA:   0:00:34"
          ],
          "name": "stderr"
        },
        {
          "output_type": "stream",
          "text": [
            "2019-05-05\n",
            "2019-05-04\n",
            "2019-05-03\n"
          ],
          "name": "stdout"
        },
        {
          "output_type": "stream",
          "text": [
            "\r                                                                               \r\r 93% (342 of 366) |####################  | Elapsed Time: 0:16:30 ETA:   0:01:34"
          ],
          "name": "stderr"
        },
        {
          "output_type": "stream",
          "text": [
            "2019-05-02\n"
          ],
          "name": "stdout"
        },
        {
          "output_type": "stream",
          "text": [
            "\r                                                                               \r\r 93% (343 of 366) |####################  | Elapsed Time: 0:16:34 ETA:   0:01:31"
          ],
          "name": "stderr"
        },
        {
          "output_type": "stream",
          "text": [
            "2019-05-01\n"
          ],
          "name": "stdout"
        },
        {
          "output_type": "stream",
          "text": [
            "\r                                                                               \r\r 93% (344 of 366) |####################  | Elapsed Time: 0:16:38 ETA:   0:01:27"
          ],
          "name": "stderr"
        },
        {
          "output_type": "stream",
          "text": [
            "2019-04-30\n"
          ],
          "name": "stdout"
        },
        {
          "output_type": "stream",
          "text": [
            "\r                                                                               \r\r 94% (345 of 366) |####################  | Elapsed Time: 0:16:42 ETA:   0:01:22"
          ],
          "name": "stderr"
        },
        {
          "output_type": "stream",
          "text": [
            "2019-04-29\n"
          ],
          "name": "stdout"
        },
        {
          "output_type": "stream",
          "text": [
            " 94% (347 of 366) |####################  | Elapsed Time: 0:16:47 ETA:   0:00:40"
          ],
          "name": "stderr"
        },
        {
          "output_type": "stream",
          "text": [
            "2019-04-28\n",
            "2019-04-27\n"
          ],
          "name": "stdout"
        },
        {
          "output_type": "stream",
          "text": [
            "\r                                                                               \r\r 95% (348 of 366) |####################  | Elapsed Time: 0:16:47 ETA:   0:00:38"
          ],
          "name": "stderr"
        },
        {
          "output_type": "stream",
          "text": [
            "2019-04-26\n"
          ],
          "name": "stdout"
        },
        {
          "output_type": "stream",
          "text": [
            "\r                                                                               \r\r 95% (349 of 366) |####################  | Elapsed Time: 0:16:50 ETA:   0:00:33"
          ],
          "name": "stderr"
        },
        {
          "output_type": "stream",
          "text": [
            "2019-04-25\n"
          ],
          "name": "stdout"
        },
        {
          "output_type": "stream",
          "text": [
            "\r                                                                               \r\r 95% (350 of 366) |##################### | Elapsed Time: 0:16:54 ETA:   0:01:04"
          ],
          "name": "stderr"
        },
        {
          "output_type": "stream",
          "text": [
            "2019-04-24\n"
          ],
          "name": "stdout"
        },
        {
          "output_type": "stream",
          "text": [
            "\r                                                                               \r\r 95% (351 of 366) |##################### | Elapsed Time: 0:16:58 ETA:   0:00:59"
          ],
          "name": "stderr"
        },
        {
          "output_type": "stream",
          "text": [
            "2019-04-23\n"
          ],
          "name": "stdout"
        },
        {
          "output_type": "stream",
          "text": [
            "\r                                                                               \r\r 96% (352 of 366) |##################### | Elapsed Time: 0:17:02 ETA:   0:00:56"
          ],
          "name": "stderr"
        },
        {
          "output_type": "stream",
          "text": [
            "2019-04-22\n"
          ],
          "name": "stdout"
        },
        {
          "output_type": "stream",
          "text": [
            " 96% (355 of 366) |##################### | Elapsed Time: 0:17:07 ETA:   0:00:14"
          ],
          "name": "stderr"
        },
        {
          "output_type": "stream",
          "text": [
            "2019-04-21\n",
            "2019-04-20\n",
            "2019-04-19\n",
            "2019-04-18\n"
          ],
          "name": "stdout"
        },
        {
          "output_type": "stream",
          "text": [
            "\r                                                                               \r\r 97% (357 of 366) |##################### | Elapsed Time: 0:17:11 ETA:   0:00:18"
          ],
          "name": "stderr"
        },
        {
          "output_type": "stream",
          "text": [
            "2019-04-17\n"
          ],
          "name": "stdout"
        },
        {
          "output_type": "stream",
          "text": [
            "\r                                                                               \r\r 97% (358 of 366) |##################### | Elapsed Time: 0:17:14 ETA:   0:00:31"
          ],
          "name": "stderr"
        },
        {
          "output_type": "stream",
          "text": [
            "2019-04-16\n"
          ],
          "name": "stdout"
        },
        {
          "output_type": "stream",
          "text": [
            "\r                                                                               \r\r 98% (359 of 366) |##################### | Elapsed Time: 0:17:18 ETA:   0:00:27"
          ],
          "name": "stderr"
        },
        {
          "output_type": "stream",
          "text": [
            "2019-04-15\n"
          ],
          "name": "stdout"
        },
        {
          "output_type": "stream",
          "text": [
            "\r                                                                               \r\r 98% (360 of 366) |##################### | Elapsed Time: 0:17:22 ETA:   0:00:23"
          ],
          "name": "stderr"
        },
        {
          "output_type": "stream",
          "text": [
            "2019-04-14\n",
            "2019-04-13\n"
          ],
          "name": "stdout"
        },
        {
          "output_type": "stream",
          "text": [
            "\r                                                                               \r\r 98% (362 of 366) |##################### | Elapsed Time: 0:17:23 ETA:   0:00:05"
          ],
          "name": "stderr"
        },
        {
          "output_type": "stream",
          "text": [
            "2019-04-12\n"
          ],
          "name": "stdout"
        },
        {
          "output_type": "stream",
          "text": [
            "\r                                                                               \r\r 99% (363 of 366) |##################### | Elapsed Time: 0:17:27 ETA:   0:00:11"
          ],
          "name": "stderr"
        },
        {
          "output_type": "stream",
          "text": [
            "2019-04-11\n"
          ],
          "name": "stdout"
        },
        {
          "output_type": "stream",
          "text": [
            "\r                                                                               \r\r 99% (364 of 366) |##################### | Elapsed Time: 0:17:31 ETA:   0:00:08"
          ],
          "name": "stderr"
        },
        {
          "output_type": "stream",
          "text": [
            "2019-04-10\n"
          ],
          "name": "stdout"
        },
        {
          "output_type": "stream",
          "text": [
            "\r                                                                               \r\r 99% (365 of 366) |##################### | Elapsed Time: 0:17:35 ETA:   0:00:03"
          ],
          "name": "stderr"
        },
        {
          "output_type": "stream",
          "text": [
            "2019-04-09\n"
          ],
          "name": "stdout"
        },
        {
          "output_type": "stream",
          "text": [
            "\r                                                                               \r\r100% (366 of 366) |######################| Elapsed Time: 0:17:39 ETA:  00:00:00"
          ],
          "name": "stderr"
        },
        {
          "output_type": "stream",
          "text": [
            "2019-04-08\n"
          ],
          "name": "stdout"
        }
      ]
    },
    {
      "cell_type": "code",
      "metadata": {
        "id": "_bM-9g7hTyYl",
        "colab_type": "code",
        "colab": {}
      },
      "source": [
        ""
      ],
      "execution_count": 0,
      "outputs": []
    }
  ]
}